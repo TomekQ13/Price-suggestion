{
 "cells": [
  {
   "cell_type": "markdown",
   "metadata": {},
   "source": [
    "## Data preparation"
   ]
  },
  {
   "cell_type": "code",
   "execution_count": 2,
   "metadata": {},
   "outputs": [],
   "source": [
    "import pandas as pd\n",
    "import numpy as np"
   ]
  },
  {
   "cell_type": "code",
   "execution_count": 57,
   "metadata": {},
   "outputs": [],
   "source": [
    "data = pd.read_csv(\"C:/Users/rafal/Desktop/DS/Merceri price/data_selected.csv\")"
   ]
  },
  {
   "cell_type": "code",
   "execution_count": 60,
   "metadata": {},
   "outputs": [
    {
     "data": {
      "text/html": [
       "<div>\n",
       "<style scoped>\n",
       "    .dataframe tbody tr th:only-of-type {\n",
       "        vertical-align: middle;\n",
       "    }\n",
       "\n",
       "    .dataframe tbody tr th {\n",
       "        vertical-align: top;\n",
       "    }\n",
       "\n",
       "    .dataframe thead th {\n",
       "        text-align: right;\n",
       "    }\n",
       "</style>\n",
       "<table border=\"1\" class=\"dataframe\">\n",
       "  <thead>\n",
       "    <tr style=\"text-align: right;\">\n",
       "      <th></th>\n",
       "      <th>name</th>\n",
       "      <th>item_condition_id</th>\n",
       "      <th>category_name</th>\n",
       "      <th>brand_name</th>\n",
       "      <th>price</th>\n",
       "      <th>shipping</th>\n",
       "      <th>item_description</th>\n",
       "    </tr>\n",
       "  </thead>\n",
       "  <tbody>\n",
       "    <tr>\n",
       "      <th>0</th>\n",
       "      <td>Chanel Coco Mademoiselle</td>\n",
       "      <td>1</td>\n",
       "      <td>Beauty/Fragrance/Women</td>\n",
       "      <td>Chanel</td>\n",
       "      <td>81.0</td>\n",
       "      <td>0</td>\n",
       "      <td>It's brand new and 100% authentic. This is a g...</td>\n",
       "    </tr>\n",
       "    <tr>\n",
       "      <th>1</th>\n",
       "      <td>Young living Raven</td>\n",
       "      <td>3</td>\n",
       "      <td>Other/Daily &amp; Travel items/Health Care</td>\n",
       "      <td>NaN</td>\n",
       "      <td>13.0</td>\n",
       "      <td>0</td>\n",
       "      <td>Partially used as shown in pic</td>\n",
       "    </tr>\n",
       "    <tr>\n",
       "      <th>2</th>\n",
       "      <td>Nwt Northface Reversible Jacket xs 6</td>\n",
       "      <td>1</td>\n",
       "      <td>Kids/Girls (4+)/Coats &amp; Jackets</td>\n",
       "      <td>The North Face</td>\n",
       "      <td>56.0</td>\n",
       "      <td>0</td>\n",
       "      <td>Girls extra small xs 6 Northface jacket Super ...</td>\n",
       "    </tr>\n",
       "    <tr>\n",
       "      <th>3</th>\n",
       "      <td>Lauren Conrad knit sweater!</td>\n",
       "      <td>2</td>\n",
       "      <td>Women/Sweaters/Crewneck</td>\n",
       "      <td>LC Lauren Conrad</td>\n",
       "      <td>8.0</td>\n",
       "      <td>1</td>\n",
       "      <td>Like new! Light pink!</td>\n",
       "    </tr>\n",
       "    <tr>\n",
       "      <th>4</th>\n",
       "      <td>ONE PIECE bathing suit</td>\n",
       "      <td>2</td>\n",
       "      <td>Women/Swimwear/One-Piece</td>\n",
       "      <td>NaN</td>\n",
       "      <td>17.0</td>\n",
       "      <td>0</td>\n",
       "      <td>This is just for the one piece! Size small/medium</td>\n",
       "    </tr>\n",
       "  </tbody>\n",
       "</table>\n",
       "</div>"
      ],
      "text/plain": [
       "                                   name  item_condition_id  \\\n",
       "0              Chanel Coco Mademoiselle                  1   \n",
       "1                    Young living Raven                  3   \n",
       "2  Nwt Northface Reversible Jacket xs 6                  1   \n",
       "3           Lauren Conrad knit sweater!                  2   \n",
       "4                ONE PIECE bathing suit                  2   \n",
       "\n",
       "                            category_name        brand_name  price  shipping  \\\n",
       "0                  Beauty/Fragrance/Women            Chanel   81.0         0   \n",
       "1  Other/Daily & Travel items/Health Care               NaN   13.0         0   \n",
       "2         Kids/Girls (4+)/Coats & Jackets    The North Face   56.0         0   \n",
       "3                 Women/Sweaters/Crewneck  LC Lauren Conrad    8.0         1   \n",
       "4                Women/Swimwear/One-Piece               NaN   17.0         0   \n",
       "\n",
       "                                    item_description  \n",
       "0  It's brand new and 100% authentic. This is a g...  \n",
       "1                     Partially used as shown in pic  \n",
       "2  Girls extra small xs 6 Northface jacket Super ...  \n",
       "3                              Like new! Light pink!  \n",
       "4  This is just for the one piece! Size small/medium  "
      ]
     },
     "execution_count": 60,
     "metadata": {},
     "output_type": "execute_result"
    }
   ],
   "source": [
    "data.head()"
   ]
  },
  {
   "cell_type": "code",
   "execution_count": 59,
   "metadata": {},
   "outputs": [],
   "source": [
    "data.drop(columns = ['Unnamed: 0', 'train_id'], axis = 1, inplace = True)"
   ]
  },
  {
   "cell_type": "markdown",
   "metadata": {},
   "source": [
    "### Categories"
   ]
  },
  {
   "cell_type": "code",
   "execution_count": 61,
   "metadata": {},
   "outputs": [],
   "source": [
    "def StringToColumns(data, column_name, sep, split_limit, fill_na = \"No_category\"):\n",
    "    categories = data[column_name].str.split(sep, split_limit, expand = True)\n",
    "    categories = categories.drop(columns = 3, axis = 1)\n",
    "    categories = categories.fillna(value = fill_na)\n",
    "    data_cats = pd.concat([data, categories], axis = 1)\n",
    "    data_features = data_cats.drop(columns = [column_name], axis = 1)\n",
    "    return data_features\n",
    "\n",
    "def WordsToColumns(data, max_columns, column_number):\n",
    "    import re\n",
    "    import nltk\n",
    "    from nltk.corpus import stopwords\n",
    "    from nltk.stem.porter import PorterStemmer\n",
    "    from sklearn.feature_extraction.text import CountVectorizer\n",
    "    corpus = []\n",
    "    for i in range(0, len(data)):\n",
    "        name = re.sub('[^a-zA-Z]', ' ', data.iloc[i, column_number])\n",
    "        name = name.lower()\n",
    "        name = name.split()\n",
    "        ps = PorterStemmer()\n",
    "        name = [ps.stem(word) for word in name if not word in set(stopwords.words('english'))]\n",
    "        name = ' '.join(name)\n",
    "        corpus.append(name)    \n",
    "    # Creating the Bag of Words model\n",
    "    cv = CountVectorizer(max_features = max_columns)\n",
    "    name_features = cv.fit_transform(corpus)\n",
    "    df_name_features = pd.DataFrame(name_features.toarray())\n",
    "    return df_name_features\n",
    "\n",
    "def SelectedLevelsToColumns_count(data, target, categorical, percentage=0.001, na_fill = 'no_brand_name'):\n",
    "    from sklearn.preprocessing import OneHotEncoder\n",
    "    pivot_brands = pd.pivot_table(data, values = target, index = categorical, aggfunc = ['count'])\n",
    "    pivot_brands.columns = pivot_brands.columns.get_level_values(0)\n",
    "    pv_sorted = pivot_brands.sort_values(by = ['count'], ascending = False)\n",
    "    selected_brands = pv_sorted[pv_sorted['count']>percentage*len(data)]\n",
    "    brand_list = selected_brands.index\n",
    "    brand_list = np.array(brand_list)\n",
    "    ohe = OneHotEncoder()\n",
    "    cat_data = pd.DataFrame(data[categorical])\n",
    "    cat_data.fillna(value = na_fill, inplace = True)\n",
    "    data['new_categorical'] = np.where(data[categorical].isin(brand_list), data[categorical], 'other')\n",
    "    categories = ohe.fit_transform(pd.DataFrame(data['new_categorical']))\n",
    "    data.drop(columns=['new_categorical', categorical], axis = 1, inplace = True)\n",
    "    data.reset_index(drop = True, inplace = True)\n",
    "    data_final = pd.concat([data, pd.DataFrame(categories.toarray())], axis = 1)\n",
    "    #Return also the brand_list for preprocesssing the test set\n",
    "    return data_final"
   ]
  },
  {
   "cell_type": "code",
   "execution_count": 62,
   "metadata": {},
   "outputs": [],
   "source": [
    "data = StringToColumns(data, 'category_name', '/', 3)"
   ]
  },
  {
   "cell_type": "code",
   "execution_count": 63,
   "metadata": {},
   "outputs": [],
   "source": [
    "from sklearn.preprocessing import OneHotEncoder\n",
    "ohe = OneHotEncoder()\n",
    "data_categories = ohe.fit_transform(data[[0, 1, 2]])"
   ]
  },
  {
   "cell_type": "code",
   "execution_count": 64,
   "metadata": {},
   "outputs": [],
   "source": [
    "data_categories = pd.DataFrame(data_categories.toarray())"
   ]
  },
  {
   "cell_type": "code",
   "execution_count": 65,
   "metadata": {},
   "outputs": [],
   "source": [
    "data = pd.concat([data, data_categories], axis = 1)"
   ]
  },
  {
   "cell_type": "code",
   "execution_count": 68,
   "metadata": {},
   "outputs": [],
   "source": [
    "data.drop(columns = [0,1,2], axis = 1, inplace=True)"
   ]
  },
  {
   "cell_type": "markdown",
   "metadata": {},
   "source": [
    "### Name"
   ]
  },
  {
   "cell_type": "code",
   "execution_count": null,
   "metadata": {},
   "outputs": [],
   "source": [
    "data_name = WordsToColumns(data, 1000, 0)"
   ]
  },
  {
   "cell_type": "code",
   "execution_count": null,
   "metadata": {},
   "outputs": [],
   "source": [
    "data_name.to_csv(\"C:/Users/rafal/Desktop/DS/Merceri price/data_name_preprocessed.csv\")"
   ]
  },
  {
   "cell_type": "code",
   "execution_count": null,
   "metadata": {},
   "outputs": [],
   "source": [
    "data_with_name = pd.concat([data, data_name], axis = 1)"
   ]
  },
  {
   "cell_type": "markdown",
   "metadata": {},
   "source": [
    "### Brand name"
   ]
  },
  {
   "cell_type": "code",
   "execution_count": 39,
   "metadata": {},
   "outputs": [],
   "source": [
    "data = SelectedLevelsToColumns_count(data, 'price', 'brand_name')"
   ]
  },
  {
   "cell_type": "code",
   "execution_count": 40,
   "metadata": {},
   "outputs": [
    {
     "data": {
      "text/html": [
       "<div>\n",
       "<style scoped>\n",
       "    .dataframe tbody tr th:only-of-type {\n",
       "        vertical-align: middle;\n",
       "    }\n",
       "\n",
       "    .dataframe tbody tr th {\n",
       "        vertical-align: top;\n",
       "    }\n",
       "\n",
       "    .dataframe thead th {\n",
       "        text-align: right;\n",
       "    }\n",
       "</style>\n",
       "<table border=\"1\" class=\"dataframe\">\n",
       "  <thead>\n",
       "    <tr style=\"text-align: right;\">\n",
       "      <th></th>\n",
       "      <th>Unnamed: 0</th>\n",
       "      <th>train_id</th>\n",
       "      <th>name</th>\n",
       "      <th>item_condition_id</th>\n",
       "      <th>price</th>\n",
       "      <th>shipping</th>\n",
       "      <th>item_description</th>\n",
       "      <th>0</th>\n",
       "      <th>1</th>\n",
       "      <th>2</th>\n",
       "      <th>...</th>\n",
       "      <th>98</th>\n",
       "      <th>99</th>\n",
       "      <th>100</th>\n",
       "      <th>101</th>\n",
       "      <th>102</th>\n",
       "      <th>103</th>\n",
       "      <th>104</th>\n",
       "      <th>105</th>\n",
       "      <th>106</th>\n",
       "      <th>107</th>\n",
       "    </tr>\n",
       "  </thead>\n",
       "  <tbody>\n",
       "    <tr>\n",
       "      <th>0</th>\n",
       "      <td>775838</td>\n",
       "      <td>775838</td>\n",
       "      <td>Chanel Coco Mademoiselle</td>\n",
       "      <td>1</td>\n",
       "      <td>81.0</td>\n",
       "      <td>0</td>\n",
       "      <td>It's brand new and 100% authentic. This is a g...</td>\n",
       "      <td>Beauty</td>\n",
       "      <td>Fragrance</td>\n",
       "      <td>Women</td>\n",
       "      <td>...</td>\n",
       "      <td>0.0</td>\n",
       "      <td>0.0</td>\n",
       "      <td>0.0</td>\n",
       "      <td>0.0</td>\n",
       "      <td>0.0</td>\n",
       "      <td>0.0</td>\n",
       "      <td>0.0</td>\n",
       "      <td>0.0</td>\n",
       "      <td>0.0</td>\n",
       "      <td>0.0</td>\n",
       "    </tr>\n",
       "    <tr>\n",
       "      <th>1</th>\n",
       "      <td>984982</td>\n",
       "      <td>984982</td>\n",
       "      <td>Young living Raven</td>\n",
       "      <td>3</td>\n",
       "      <td>13.0</td>\n",
       "      <td>0</td>\n",
       "      <td>Partially used as shown in pic</td>\n",
       "      <td>Other</td>\n",
       "      <td>Daily &amp; Travel items</td>\n",
       "      <td>Health Care</td>\n",
       "      <td>...</td>\n",
       "      <td>0.0</td>\n",
       "      <td>0.0</td>\n",
       "      <td>0.0</td>\n",
       "      <td>0.0</td>\n",
       "      <td>0.0</td>\n",
       "      <td>0.0</td>\n",
       "      <td>0.0</td>\n",
       "      <td>1.0</td>\n",
       "      <td>0.0</td>\n",
       "      <td>0.0</td>\n",
       "    </tr>\n",
       "    <tr>\n",
       "      <th>2</th>\n",
       "      <td>1144303</td>\n",
       "      <td>1144303</td>\n",
       "      <td>Nwt Northface Reversible Jacket xs 6</td>\n",
       "      <td>1</td>\n",
       "      <td>56.0</td>\n",
       "      <td>0</td>\n",
       "      <td>Girls extra small xs 6 Northface jacket Super ...</td>\n",
       "      <td>Kids</td>\n",
       "      <td>Girls (4+)</td>\n",
       "      <td>Coats &amp; Jackets</td>\n",
       "      <td>...</td>\n",
       "      <td>0.0</td>\n",
       "      <td>0.0</td>\n",
       "      <td>0.0</td>\n",
       "      <td>0.0</td>\n",
       "      <td>0.0</td>\n",
       "      <td>0.0</td>\n",
       "      <td>0.0</td>\n",
       "      <td>0.0</td>\n",
       "      <td>0.0</td>\n",
       "      <td>0.0</td>\n",
       "    </tr>\n",
       "    <tr>\n",
       "      <th>3</th>\n",
       "      <td>1222558</td>\n",
       "      <td>1222558</td>\n",
       "      <td>Lauren Conrad knit sweater!</td>\n",
       "      <td>2</td>\n",
       "      <td>8.0</td>\n",
       "      <td>1</td>\n",
       "      <td>Like new! Light pink!</td>\n",
       "      <td>Women</td>\n",
       "      <td>Sweaters</td>\n",
       "      <td>Crewneck</td>\n",
       "      <td>...</td>\n",
       "      <td>0.0</td>\n",
       "      <td>0.0</td>\n",
       "      <td>0.0</td>\n",
       "      <td>0.0</td>\n",
       "      <td>0.0</td>\n",
       "      <td>0.0</td>\n",
       "      <td>0.0</td>\n",
       "      <td>1.0</td>\n",
       "      <td>0.0</td>\n",
       "      <td>0.0</td>\n",
       "    </tr>\n",
       "    <tr>\n",
       "      <th>4</th>\n",
       "      <td>1110435</td>\n",
       "      <td>1110435</td>\n",
       "      <td>ONE PIECE bathing suit</td>\n",
       "      <td>2</td>\n",
       "      <td>17.0</td>\n",
       "      <td>0</td>\n",
       "      <td>This is just for the one piece! Size small/medium</td>\n",
       "      <td>Women</td>\n",
       "      <td>Swimwear</td>\n",
       "      <td>One-Piece</td>\n",
       "      <td>...</td>\n",
       "      <td>0.0</td>\n",
       "      <td>0.0</td>\n",
       "      <td>0.0</td>\n",
       "      <td>0.0</td>\n",
       "      <td>0.0</td>\n",
       "      <td>0.0</td>\n",
       "      <td>0.0</td>\n",
       "      <td>1.0</td>\n",
       "      <td>0.0</td>\n",
       "      <td>0.0</td>\n",
       "    </tr>\n",
       "  </tbody>\n",
       "</table>\n",
       "<p>5 rows × 118 columns</p>\n",
       "</div>"
      ],
      "text/plain": [
       "   Unnamed: 0  train_id                                  name  \\\n",
       "0      775838    775838              Chanel Coco Mademoiselle   \n",
       "1      984982    984982                    Young living Raven   \n",
       "2     1144303   1144303  Nwt Northface Reversible Jacket xs 6   \n",
       "3     1222558   1222558           Lauren Conrad knit sweater!   \n",
       "4     1110435   1110435                ONE PIECE bathing suit   \n",
       "\n",
       "   item_condition_id  price  shipping  \\\n",
       "0                  1   81.0         0   \n",
       "1                  3   13.0         0   \n",
       "2                  1   56.0         0   \n",
       "3                  2    8.0         1   \n",
       "4                  2   17.0         0   \n",
       "\n",
       "                                    item_description       0  \\\n",
       "0  It's brand new and 100% authentic. This is a g...  Beauty   \n",
       "1                     Partially used as shown in pic   Other   \n",
       "2  Girls extra small xs 6 Northface jacket Super ...    Kids   \n",
       "3                              Like new! Light pink!   Women   \n",
       "4  This is just for the one piece! Size small/medium   Women   \n",
       "\n",
       "                      1                2  ...   98   99  100  101  102  103  \\\n",
       "0             Fragrance            Women  ...  0.0  0.0  0.0  0.0  0.0  0.0   \n",
       "1  Daily & Travel items      Health Care  ...  0.0  0.0  0.0  0.0  0.0  0.0   \n",
       "2            Girls (4+)  Coats & Jackets  ...  0.0  0.0  0.0  0.0  0.0  0.0   \n",
       "3              Sweaters         Crewneck  ...  0.0  0.0  0.0  0.0  0.0  0.0   \n",
       "4              Swimwear        One-Piece  ...  0.0  0.0  0.0  0.0  0.0  0.0   \n",
       "\n",
       "   104  105  106  107  \n",
       "0  0.0  0.0  0.0  0.0  \n",
       "1  0.0  1.0  0.0  0.0  \n",
       "2  0.0  0.0  0.0  0.0  \n",
       "3  0.0  1.0  0.0  0.0  \n",
       "4  0.0  1.0  0.0  0.0  \n",
       "\n",
       "[5 rows x 118 columns]"
      ]
     },
     "execution_count": 40,
     "metadata": {},
     "output_type": "execute_result"
    }
   ],
   "source": [
    "data.head()"
   ]
  }
 ],
 "metadata": {
  "kernelspec": {
   "display_name": "Python 3",
   "language": "python",
   "name": "python3"
  },
  "language_info": {
   "codemirror_mode": {
    "name": "ipython",
    "version": 3
   },
   "file_extension": ".py",
   "mimetype": "text/x-python",
   "name": "python",
   "nbconvert_exporter": "python",
   "pygments_lexer": "ipython3",
   "version": "3.7.3"
  },
  "varInspector": {
   "cols": {
    "lenName": 16,
    "lenType": 16,
    "lenVar": 40
   },
   "kernels_config": {
    "python": {
     "delete_cmd_postfix": "",
     "delete_cmd_prefix": "del ",
     "library": "var_list.py",
     "varRefreshCmd": "print(var_dic_list())"
    },
    "r": {
     "delete_cmd_postfix": ") ",
     "delete_cmd_prefix": "rm(",
     "library": "var_list.r",
     "varRefreshCmd": "cat(var_dic_list()) "
    }
   },
   "types_to_exclude": [
    "module",
    "function",
    "builtin_function_or_method",
    "instance",
    "_Feature"
   ],
   "window_display": false
  }
 },
 "nbformat": 4,
 "nbformat_minor": 2
}
