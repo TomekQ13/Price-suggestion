{
 "cells": [
  {
   "cell_type": "code",
   "execution_count": 1,
   "metadata": {},
   "outputs": [],
   "source": [
    "import pandas as pd\n",
    "import numpy as np"
   ]
  },
  {
   "cell_type": "code",
   "execution_count": 2,
   "metadata": {},
   "outputs": [],
   "source": [
    "data_full = pd.read_csv(\"C:/Users/rafal/Desktop/DS/Merceri price/train.tsv\", sep = '\\t')"
   ]
  },
  {
   "cell_type": "code",
   "execution_count": 3,
   "metadata": {},
   "outputs": [],
   "source": [
    "data = data_full.sample(100000)"
   ]
  },
  {
   "cell_type": "markdown",
   "metadata": {},
   "source": [
    "Używam tylko 100 000 obserwacji."
   ]
  },
  {
   "cell_type": "code",
   "execution_count": 4,
   "metadata": {},
   "outputs": [
    {
     "data": {
      "text/html": [
       "<div>\n",
       "<style scoped>\n",
       "    .dataframe tbody tr th:only-of-type {\n",
       "        vertical-align: middle;\n",
       "    }\n",
       "\n",
       "    .dataframe tbody tr th {\n",
       "        vertical-align: top;\n",
       "    }\n",
       "\n",
       "    .dataframe thead th {\n",
       "        text-align: right;\n",
       "    }\n",
       "</style>\n",
       "<table border=\"1\" class=\"dataframe\">\n",
       "  <thead>\n",
       "    <tr style=\"text-align: right;\">\n",
       "      <th></th>\n",
       "      <th>train_id</th>\n",
       "      <th>name</th>\n",
       "      <th>item_condition_id</th>\n",
       "      <th>category_name</th>\n",
       "      <th>brand_name</th>\n",
       "      <th>price</th>\n",
       "      <th>shipping</th>\n",
       "      <th>item_description</th>\n",
       "    </tr>\n",
       "  </thead>\n",
       "  <tbody>\n",
       "    <tr>\n",
       "      <th>1082956</th>\n",
       "      <td>1082956</td>\n",
       "      <td>COACH jewelry case (round) Leather</td>\n",
       "      <td>1</td>\n",
       "      <td>Women/Jewelry/Necklaces</td>\n",
       "      <td>Coach</td>\n",
       "      <td>29.0</td>\n",
       "      <td>1</td>\n",
       "      <td>COACH jewelry zippered CASE / jewelry box (rou...</td>\n",
       "    </tr>\n",
       "    <tr>\n",
       "      <th>511824</th>\n",
       "      <td>511824</td>\n",
       "      <td>Freeship NWT Wacoal Bra 38DD</td>\n",
       "      <td>1</td>\n",
       "      <td>Women/Underwear/Bras</td>\n",
       "      <td>NaN</td>\n",
       "      <td>40.0</td>\n",
       "      <td>1</td>\n",
       "      <td>When you touch this bra, you'll be amazed at h...</td>\n",
       "    </tr>\n",
       "    <tr>\n",
       "      <th>762614</th>\n",
       "      <td>762614</td>\n",
       "      <td>Cute Shirt</td>\n",
       "      <td>3</td>\n",
       "      <td>Women/Tops &amp; Blouses/T-Shirts</td>\n",
       "      <td>NaN</td>\n",
       "      <td>6.0</td>\n",
       "      <td>1</td>\n",
       "      <td>Wrinkled from storage. Very light weight. Ship...</td>\n",
       "    </tr>\n",
       "    <tr>\n",
       "      <th>244571</th>\n",
       "      <td>244571</td>\n",
       "      <td>*reserved*</td>\n",
       "      <td>1</td>\n",
       "      <td>Women/Dresses/Full-Length</td>\n",
       "      <td>Rue21</td>\n",
       "      <td>12.0</td>\n",
       "      <td>0</td>\n",
       "      <td>Adorable cream and mint maxi style dress with ...</td>\n",
       "    </tr>\n",
       "    <tr>\n",
       "      <th>405303</th>\n",
       "      <td>405303</td>\n",
       "      <td>Lane Bryant 18/20 plus 1x gray sweater</td>\n",
       "      <td>2</td>\n",
       "      <td>Women/Tops &amp; Blouses/Blouse</td>\n",
       "      <td>Lane Bryant</td>\n",
       "      <td>14.0</td>\n",
       "      <td>0</td>\n",
       "      <td>Like new, worn once! Lane Bryant sweater, size...</td>\n",
       "    </tr>\n",
       "  </tbody>\n",
       "</table>\n",
       "</div>"
      ],
      "text/plain": [
       "         train_id                                    name  item_condition_id  \\\n",
       "1082956   1082956      COACH jewelry case (round) Leather                  1   \n",
       "511824     511824            Freeship NWT Wacoal Bra 38DD                  1   \n",
       "762614     762614                              Cute Shirt                  3   \n",
       "244571     244571                              *reserved*                  1   \n",
       "405303     405303  Lane Bryant 18/20 plus 1x gray sweater                  2   \n",
       "\n",
       "                         category_name   brand_name  price  shipping  \\\n",
       "1082956        Women/Jewelry/Necklaces        Coach   29.0         1   \n",
       "511824            Women/Underwear/Bras          NaN   40.0         1   \n",
       "762614   Women/Tops & Blouses/T-Shirts          NaN    6.0         1   \n",
       "244571       Women/Dresses/Full-Length        Rue21   12.0         0   \n",
       "405303     Women/Tops & Blouses/Blouse  Lane Bryant   14.0         0   \n",
       "\n",
       "                                          item_description  \n",
       "1082956  COACH jewelry zippered CASE / jewelry box (rou...  \n",
       "511824   When you touch this bra, you'll be amazed at h...  \n",
       "762614   Wrinkled from storage. Very light weight. Ship...  \n",
       "244571   Adorable cream and mint maxi style dress with ...  \n",
       "405303   Like new, worn once! Lane Bryant sweater, size...  "
      ]
     },
     "execution_count": 4,
     "metadata": {},
     "output_type": "execute_result"
    }
   ],
   "source": [
    "data.head()"
   ]
  },
  {
   "cell_type": "code",
   "execution_count": 5,
   "metadata": {},
   "outputs": [],
   "source": [
    "pv = pd.pivot_table(data, values = ['price'],index = ['brand_name'], aggfunc = ['count', np.mean, np.median])"
   ]
  },
  {
   "cell_type": "code",
   "execution_count": 6,
   "metadata": {},
   "outputs": [],
   "source": [
    "pv.columns = pv.columns.get_level_values(0)"
   ]
  },
  {
   "cell_type": "code",
   "execution_count": 7,
   "metadata": {},
   "outputs": [],
   "source": [
    "pv_sorted = pv.sort_values(by = ['count'], ascending = False)"
   ]
  },
  {
   "cell_type": "code",
   "execution_count": 8,
   "metadata": {},
   "outputs": [
    {
     "data": {
      "text/html": [
       "<div>\n",
       "<style scoped>\n",
       "    .dataframe tbody tr th:only-of-type {\n",
       "        vertical-align: middle;\n",
       "    }\n",
       "\n",
       "    .dataframe tbody tr th {\n",
       "        vertical-align: top;\n",
       "    }\n",
       "\n",
       "    .dataframe thead th {\n",
       "        text-align: right;\n",
       "    }\n",
       "</style>\n",
       "<table border=\"1\" class=\"dataframe\">\n",
       "  <thead>\n",
       "    <tr style=\"text-align: right;\">\n",
       "      <th></th>\n",
       "      <th>train_id</th>\n",
       "      <th>item_condition_id</th>\n",
       "      <th>price</th>\n",
       "      <th>shipping</th>\n",
       "    </tr>\n",
       "  </thead>\n",
       "  <tbody>\n",
       "    <tr>\n",
       "      <th>count</th>\n",
       "      <td>1.000000e+05</td>\n",
       "      <td>100000.000000</td>\n",
       "      <td>100000.000000</td>\n",
       "      <td>100000.000000</td>\n",
       "    </tr>\n",
       "    <tr>\n",
       "      <th>mean</th>\n",
       "      <td>7.422840e+05</td>\n",
       "      <td>1.901270</td>\n",
       "      <td>26.701765</td>\n",
       "      <td>0.449560</td>\n",
       "    </tr>\n",
       "    <tr>\n",
       "      <th>std</th>\n",
       "      <td>4.279479e+05</td>\n",
       "      <td>0.902281</td>\n",
       "      <td>38.940803</td>\n",
       "      <td>0.497452</td>\n",
       "    </tr>\n",
       "    <tr>\n",
       "      <th>min</th>\n",
       "      <td>1.300000e+01</td>\n",
       "      <td>1.000000</td>\n",
       "      <td>0.000000</td>\n",
       "      <td>0.000000</td>\n",
       "    </tr>\n",
       "    <tr>\n",
       "      <th>25%</th>\n",
       "      <td>3.726665e+05</td>\n",
       "      <td>1.000000</td>\n",
       "      <td>10.000000</td>\n",
       "      <td>0.000000</td>\n",
       "    </tr>\n",
       "    <tr>\n",
       "      <th>50%</th>\n",
       "      <td>7.410960e+05</td>\n",
       "      <td>2.000000</td>\n",
       "      <td>17.000000</td>\n",
       "      <td>0.000000</td>\n",
       "    </tr>\n",
       "    <tr>\n",
       "      <th>75%</th>\n",
       "      <td>1.112512e+06</td>\n",
       "      <td>3.000000</td>\n",
       "      <td>29.000000</td>\n",
       "      <td>1.000000</td>\n",
       "    </tr>\n",
       "    <tr>\n",
       "      <th>max</th>\n",
       "      <td>1.482490e+06</td>\n",
       "      <td>5.000000</td>\n",
       "      <td>2004.000000</td>\n",
       "      <td>1.000000</td>\n",
       "    </tr>\n",
       "  </tbody>\n",
       "</table>\n",
       "</div>"
      ],
      "text/plain": [
       "           train_id  item_condition_id          price       shipping\n",
       "count  1.000000e+05      100000.000000  100000.000000  100000.000000\n",
       "mean   7.422840e+05           1.901270      26.701765       0.449560\n",
       "std    4.279479e+05           0.902281      38.940803       0.497452\n",
       "min    1.300000e+01           1.000000       0.000000       0.000000\n",
       "25%    3.726665e+05           1.000000      10.000000       0.000000\n",
       "50%    7.410960e+05           2.000000      17.000000       0.000000\n",
       "75%    1.112512e+06           3.000000      29.000000       1.000000\n",
       "max    1.482490e+06           5.000000    2004.000000       1.000000"
      ]
     },
     "execution_count": 8,
     "metadata": {},
     "output_type": "execute_result"
    }
   ],
   "source": [
    "data.describe()"
   ]
  },
  {
   "cell_type": "markdown",
   "metadata": {},
   "source": [
    "## Preprocessing the category variable"
   ]
  },
  {
   "cell_type": "code",
   "execution_count": null,
   "metadata": {},
   "outputs": [],
   "source": [
    "def StringToColumns(data, column_name, sep, split_limit, fill_na = \"No_category\"):\n",
    "    categories = data[column_name].str.split(sep, split_limit, expand = True)\n",
    "    categories = categories.drop(columns = 3, axis = 1)\n",
    "    categories = categories.fillna(value = fill_na)\n",
    "    data_cats = pd.concat([data, categories], axis = 1)\n",
    "    data_features = data_cats.drop(columns = [column_name], axis = 1)\n",
    "    return data_features"
   ]
  },
  {
   "cell_type": "code",
   "execution_count": 9,
   "metadata": {},
   "outputs": [],
   "source": [
    "categories = data['category_name'].str.split('/', 3, expand = True)"
   ]
  },
  {
   "cell_type": "code",
   "execution_count": 10,
   "metadata": {},
   "outputs": [
    {
     "data": {
      "text/plain": [
       "0      435\n",
       "1      435\n",
       "2      435\n",
       "3    99707\n",
       "dtype: int64"
      ]
     },
     "execution_count": 10,
     "metadata": {},
     "output_type": "execute_result"
    }
   ],
   "source": [
    "categories.isna().sum()"
   ]
  },
  {
   "cell_type": "markdown",
   "metadata": {},
   "source": [
    "Wyrzucam 4 poziom kategorii i uzupełniamy NA."
   ]
  },
  {
   "cell_type": "code",
   "execution_count": 11,
   "metadata": {},
   "outputs": [],
   "source": [
    "categories = categories.drop(columns = 3, axis = 1)\n",
    "categories = categories.fillna(value = 'No_category')"
   ]
  },
  {
   "cell_type": "code",
   "execution_count": 12,
   "metadata": {},
   "outputs": [
    {
     "data": {
      "text/html": [
       "<div>\n",
       "<style scoped>\n",
       "    .dataframe tbody tr th:only-of-type {\n",
       "        vertical-align: middle;\n",
       "    }\n",
       "\n",
       "    .dataframe tbody tr th {\n",
       "        vertical-align: top;\n",
       "    }\n",
       "\n",
       "    .dataframe thead th {\n",
       "        text-align: right;\n",
       "    }\n",
       "</style>\n",
       "<table border=\"1\" class=\"dataframe\">\n",
       "  <thead>\n",
       "    <tr style=\"text-align: right;\">\n",
       "      <th></th>\n",
       "      <th>0</th>\n",
       "      <th>1</th>\n",
       "      <th>2</th>\n",
       "    </tr>\n",
       "  </thead>\n",
       "  <tbody>\n",
       "    <tr>\n",
       "      <th>1151752</th>\n",
       "      <td>Beauty</td>\n",
       "      <td>Makeup</td>\n",
       "      <td>Makeup Sets</td>\n",
       "    </tr>\n",
       "    <tr>\n",
       "      <th>1438781</th>\n",
       "      <td>Electronics</td>\n",
       "      <td>Cell Phones &amp; Accessories</td>\n",
       "      <td>Cases, Covers &amp; Skins</td>\n",
       "    </tr>\n",
       "    <tr>\n",
       "      <th>1450193</th>\n",
       "      <td>Women</td>\n",
       "      <td>Shoes</td>\n",
       "      <td>Athletic</td>\n",
       "    </tr>\n",
       "    <tr>\n",
       "      <th>237510</th>\n",
       "      <td>Women</td>\n",
       "      <td>Shoes</td>\n",
       "      <td>Boots</td>\n",
       "    </tr>\n",
       "    <tr>\n",
       "      <th>448932</th>\n",
       "      <td>Electronics</td>\n",
       "      <td>Cell Phones &amp; Accessories</td>\n",
       "      <td>Cell Phones &amp; Smartphones</td>\n",
       "    </tr>\n",
       "  </tbody>\n",
       "</table>\n",
       "</div>"
      ],
      "text/plain": [
       "                   0                          1                          2\n",
       "1151752       Beauty                     Makeup                Makeup Sets\n",
       "1438781  Electronics  Cell Phones & Accessories      Cases, Covers & Skins\n",
       "1450193        Women                      Shoes                   Athletic\n",
       "237510         Women                      Shoes                      Boots\n",
       "448932   Electronics  Cell Phones & Accessories  Cell Phones & Smartphones"
      ]
     },
     "execution_count": 12,
     "metadata": {},
     "output_type": "execute_result"
    }
   ],
   "source": [
    "categories.head()"
   ]
  },
  {
   "cell_type": "code",
   "execution_count": 13,
   "metadata": {},
   "outputs": [
    {
     "data": {
      "text/plain": [
       "0    0\n",
       "1    0\n",
       "2    0\n",
       "dtype: int64"
      ]
     },
     "execution_count": 13,
     "metadata": {},
     "output_type": "execute_result"
    }
   ],
   "source": [
    "categories.isna().sum()"
   ]
  },
  {
   "cell_type": "code",
   "execution_count": 14,
   "metadata": {},
   "outputs": [],
   "source": [
    "data_cats = pd.concat([data, categories], axis = 1)"
   ]
  },
  {
   "cell_type": "code",
   "execution_count": 15,
   "metadata": {},
   "outputs": [
    {
     "data": {
      "text/html": [
       "<div>\n",
       "<style scoped>\n",
       "    .dataframe tbody tr th:only-of-type {\n",
       "        vertical-align: middle;\n",
       "    }\n",
       "\n",
       "    .dataframe tbody tr th {\n",
       "        vertical-align: top;\n",
       "    }\n",
       "\n",
       "    .dataframe thead th {\n",
       "        text-align: right;\n",
       "    }\n",
       "</style>\n",
       "<table border=\"1\" class=\"dataframe\">\n",
       "  <thead>\n",
       "    <tr style=\"text-align: right;\">\n",
       "      <th></th>\n",
       "      <th>train_id</th>\n",
       "      <th>name</th>\n",
       "      <th>item_condition_id</th>\n",
       "      <th>category_name</th>\n",
       "      <th>brand_name</th>\n",
       "      <th>price</th>\n",
       "      <th>shipping</th>\n",
       "      <th>item_description</th>\n",
       "      <th>0</th>\n",
       "      <th>1</th>\n",
       "      <th>2</th>\n",
       "    </tr>\n",
       "  </thead>\n",
       "  <tbody>\n",
       "    <tr>\n",
       "      <th>1151752</th>\n",
       "      <td>1151752</td>\n",
       "      <td>Beauty/health/skincare lot of items NEW</td>\n",
       "      <td>1</td>\n",
       "      <td>Beauty/Makeup/Makeup Sets</td>\n",
       "      <td>Burt's Bees</td>\n",
       "      <td>20.0</td>\n",
       "      <td>0</td>\n",
       "      <td>Lot of beauty, health, hair and skincare items...</td>\n",
       "      <td>Beauty</td>\n",
       "      <td>Makeup</td>\n",
       "      <td>Makeup Sets</td>\n",
       "    </tr>\n",
       "    <tr>\n",
       "      <th>1438781</th>\n",
       "      <td>1438781</td>\n",
       "      <td>2 IPHONE 7 PLUS Supreme Cases</td>\n",
       "      <td>1</td>\n",
       "      <td>Electronics/Cell Phones &amp; Accessories/Cases, C...</td>\n",
       "      <td>Apple</td>\n",
       "      <td>8.0</td>\n",
       "      <td>1</td>\n",
       "      <td>2 IPHONE 7PLUS SUPREME CASES. Also clik on my ...</td>\n",
       "      <td>Electronics</td>\n",
       "      <td>Cell Phones &amp; Accessories</td>\n",
       "      <td>Cases, Covers &amp; Skins</td>\n",
       "    </tr>\n",
       "    <tr>\n",
       "      <th>1450193</th>\n",
       "      <td>1450193</td>\n",
       "      <td>Nike Flyknit Air Max</td>\n",
       "      <td>2</td>\n",
       "      <td>Women/Shoes/Athletic</td>\n",
       "      <td>Nike</td>\n",
       "      <td>106.0</td>\n",
       "      <td>0</td>\n",
       "      <td>Authentic Nike Flyknit Air Max running sneaker...</td>\n",
       "      <td>Women</td>\n",
       "      <td>Shoes</td>\n",
       "      <td>Athletic</td>\n",
       "    </tr>\n",
       "    <tr>\n",
       "      <th>237510</th>\n",
       "      <td>237510</td>\n",
       "      <td>Brand-new boots</td>\n",
       "      <td>2</td>\n",
       "      <td>Women/Shoes/Boots</td>\n",
       "      <td>NaN</td>\n",
       "      <td>9.0</td>\n",
       "      <td>0</td>\n",
       "      <td>Brand-new boots. Only used once! Size 8/9</td>\n",
       "      <td>Women</td>\n",
       "      <td>Shoes</td>\n",
       "      <td>Boots</td>\n",
       "    </tr>\n",
       "    <tr>\n",
       "      <th>448932</th>\n",
       "      <td>448932</td>\n",
       "      <td>APPLE WATCH BAND 42MM AUTHENIC</td>\n",
       "      <td>1</td>\n",
       "      <td>Electronics/Cell Phones &amp; Accessories/Cell Pho...</td>\n",
       "      <td>Apple</td>\n",
       "      <td>28.0</td>\n",
       "      <td>1</td>\n",
       "      <td>MIDNIGHT BLUE NEW NEW NEW NEW!!! AUTHENTIC!</td>\n",
       "      <td>Electronics</td>\n",
       "      <td>Cell Phones &amp; Accessories</td>\n",
       "      <td>Cell Phones &amp; Smartphones</td>\n",
       "    </tr>\n",
       "  </tbody>\n",
       "</table>\n",
       "</div>"
      ],
      "text/plain": [
       "         train_id                                     name  item_condition_id  \\\n",
       "1151752   1151752  Beauty/health/skincare lot of items NEW                  1   \n",
       "1438781   1438781            2 IPHONE 7 PLUS Supreme Cases                  1   \n",
       "1450193   1450193                     Nike Flyknit Air Max                  2   \n",
       "237510     237510                          Brand-new boots                  2   \n",
       "448932     448932           APPLE WATCH BAND 42MM AUTHENIC                  1   \n",
       "\n",
       "                                             category_name   brand_name  \\\n",
       "1151752                          Beauty/Makeup/Makeup Sets  Burt's Bees   \n",
       "1438781  Electronics/Cell Phones & Accessories/Cases, C...        Apple   \n",
       "1450193                               Women/Shoes/Athletic         Nike   \n",
       "237510                                   Women/Shoes/Boots          NaN   \n",
       "448932   Electronics/Cell Phones & Accessories/Cell Pho...        Apple   \n",
       "\n",
       "         price  shipping                                   item_description  \\\n",
       "1151752   20.0         0  Lot of beauty, health, hair and skincare items...   \n",
       "1438781    8.0         1  2 IPHONE 7PLUS SUPREME CASES. Also clik on my ...   \n",
       "1450193  106.0         0  Authentic Nike Flyknit Air Max running sneaker...   \n",
       "237510     9.0         0          Brand-new boots. Only used once! Size 8/9   \n",
       "448932    28.0         1        MIDNIGHT BLUE NEW NEW NEW NEW!!! AUTHENTIC!   \n",
       "\n",
       "                   0                          1                          2  \n",
       "1151752       Beauty                     Makeup                Makeup Sets  \n",
       "1438781  Electronics  Cell Phones & Accessories      Cases, Covers & Skins  \n",
       "1450193        Women                      Shoes                   Athletic  \n",
       "237510         Women                      Shoes                      Boots  \n",
       "448932   Electronics  Cell Phones & Accessories  Cell Phones & Smartphones  "
      ]
     },
     "execution_count": 15,
     "metadata": {},
     "output_type": "execute_result"
    }
   ],
   "source": [
    "data_cats.head()"
   ]
  },
  {
   "cell_type": "code",
   "execution_count": 16,
   "metadata": {},
   "outputs": [],
   "source": [
    "y = data_cats.loc[:, 'price']\n",
    "data_features = data_cats.drop(columns = ['price', 'category_name'], axis = 1)"
   ]
  },
  {
   "cell_type": "code",
   "execution_count": 17,
   "metadata": {},
   "outputs": [],
   "source": [
    "data_features.loc[:, 'brand_name'] = data_features.loc[:, 'brand_name'].fillna(value = 'No_brand_name')"
   ]
  },
  {
   "cell_type": "code",
   "execution_count": 18,
   "metadata": {},
   "outputs": [
    {
     "data": {
      "text/html": [
       "<div>\n",
       "<style scoped>\n",
       "    .dataframe tbody tr th:only-of-type {\n",
       "        vertical-align: middle;\n",
       "    }\n",
       "\n",
       "    .dataframe tbody tr th {\n",
       "        vertical-align: top;\n",
       "    }\n",
       "\n",
       "    .dataframe thead th {\n",
       "        text-align: right;\n",
       "    }\n",
       "</style>\n",
       "<table border=\"1\" class=\"dataframe\">\n",
       "  <thead>\n",
       "    <tr style=\"text-align: right;\">\n",
       "      <th></th>\n",
       "      <th>train_id</th>\n",
       "      <th>name</th>\n",
       "      <th>item_condition_id</th>\n",
       "      <th>brand_name</th>\n",
       "      <th>shipping</th>\n",
       "      <th>item_description</th>\n",
       "      <th>0</th>\n",
       "      <th>1</th>\n",
       "      <th>2</th>\n",
       "    </tr>\n",
       "  </thead>\n",
       "  <tbody>\n",
       "    <tr>\n",
       "      <th>1151752</th>\n",
       "      <td>1151752</td>\n",
       "      <td>Beauty/health/skincare lot of items NEW</td>\n",
       "      <td>1</td>\n",
       "      <td>Burt's Bees</td>\n",
       "      <td>0</td>\n",
       "      <td>Lot of beauty, health, hair and skincare items...</td>\n",
       "      <td>Beauty</td>\n",
       "      <td>Makeup</td>\n",
       "      <td>Makeup Sets</td>\n",
       "    </tr>\n",
       "    <tr>\n",
       "      <th>1438781</th>\n",
       "      <td>1438781</td>\n",
       "      <td>2 IPHONE 7 PLUS Supreme Cases</td>\n",
       "      <td>1</td>\n",
       "      <td>Apple</td>\n",
       "      <td>1</td>\n",
       "      <td>2 IPHONE 7PLUS SUPREME CASES. Also clik on my ...</td>\n",
       "      <td>Electronics</td>\n",
       "      <td>Cell Phones &amp; Accessories</td>\n",
       "      <td>Cases, Covers &amp; Skins</td>\n",
       "    </tr>\n",
       "    <tr>\n",
       "      <th>1450193</th>\n",
       "      <td>1450193</td>\n",
       "      <td>Nike Flyknit Air Max</td>\n",
       "      <td>2</td>\n",
       "      <td>Nike</td>\n",
       "      <td>0</td>\n",
       "      <td>Authentic Nike Flyknit Air Max running sneaker...</td>\n",
       "      <td>Women</td>\n",
       "      <td>Shoes</td>\n",
       "      <td>Athletic</td>\n",
       "    </tr>\n",
       "    <tr>\n",
       "      <th>237510</th>\n",
       "      <td>237510</td>\n",
       "      <td>Brand-new boots</td>\n",
       "      <td>2</td>\n",
       "      <td>No_brand_name</td>\n",
       "      <td>0</td>\n",
       "      <td>Brand-new boots. Only used once! Size 8/9</td>\n",
       "      <td>Women</td>\n",
       "      <td>Shoes</td>\n",
       "      <td>Boots</td>\n",
       "    </tr>\n",
       "    <tr>\n",
       "      <th>448932</th>\n",
       "      <td>448932</td>\n",
       "      <td>APPLE WATCH BAND 42MM AUTHENIC</td>\n",
       "      <td>1</td>\n",
       "      <td>Apple</td>\n",
       "      <td>1</td>\n",
       "      <td>MIDNIGHT BLUE NEW NEW NEW NEW!!! AUTHENTIC!</td>\n",
       "      <td>Electronics</td>\n",
       "      <td>Cell Phones &amp; Accessories</td>\n",
       "      <td>Cell Phones &amp; Smartphones</td>\n",
       "    </tr>\n",
       "  </tbody>\n",
       "</table>\n",
       "</div>"
      ],
      "text/plain": [
       "         train_id                                     name  item_condition_id  \\\n",
       "1151752   1151752  Beauty/health/skincare lot of items NEW                  1   \n",
       "1438781   1438781            2 IPHONE 7 PLUS Supreme Cases                  1   \n",
       "1450193   1450193                     Nike Flyknit Air Max                  2   \n",
       "237510     237510                          Brand-new boots                  2   \n",
       "448932     448932           APPLE WATCH BAND 42MM AUTHENIC                  1   \n",
       "\n",
       "            brand_name  shipping  \\\n",
       "1151752    Burt's Bees         0   \n",
       "1438781          Apple         1   \n",
       "1450193           Nike         0   \n",
       "237510   No_brand_name         0   \n",
       "448932           Apple         1   \n",
       "\n",
       "                                          item_description            0  \\\n",
       "1151752  Lot of beauty, health, hair and skincare items...       Beauty   \n",
       "1438781  2 IPHONE 7PLUS SUPREME CASES. Also clik on my ...  Electronics   \n",
       "1450193  Authentic Nike Flyknit Air Max running sneaker...        Women   \n",
       "237510           Brand-new boots. Only used once! Size 8/9        Women   \n",
       "448932         MIDNIGHT BLUE NEW NEW NEW NEW!!! AUTHENTIC!  Electronics   \n",
       "\n",
       "                                 1                          2  \n",
       "1151752                     Makeup                Makeup Sets  \n",
       "1438781  Cell Phones & Accessories      Cases, Covers & Skins  \n",
       "1450193                      Shoes                   Athletic  \n",
       "237510                       Shoes                      Boots  \n",
       "448932   Cell Phones & Accessories  Cell Phones & Smartphones  "
      ]
     },
     "execution_count": 18,
     "metadata": {},
     "output_type": "execute_result"
    }
   ],
   "source": [
    "data_features.head()"
   ]
  },
  {
   "cell_type": "markdown",
   "metadata": {},
   "source": [
    "## Preprocessing the name variable"
   ]
  },
  {
   "cell_type": "code",
   "execution_count": 19,
   "metadata": {},
   "outputs": [
    {
     "name": "stderr",
     "output_type": "stream",
     "text": [
      "[nltk_data] Downloading package stopwords to\n",
      "[nltk_data]     C:\\Users\\rafal\\AppData\\Roaming\\nltk_data...\n",
      "[nltk_data]   Package stopwords is already up-to-date!\n"
     ]
    }
   ],
   "source": [
    "import re\n",
    "import nltk\n",
    "nltk.download('stopwords')\n",
    "from nltk.corpus import stopwords\n",
    "from nltk.stem.porter import PorterStemmer"
   ]
  },
  {
   "cell_type": "code",
   "execution_count": 20,
   "metadata": {},
   "outputs": [
    {
     "name": "stderr",
     "output_type": "stream",
     "text": [
      "Exception ignored in: <function SeekableUnicodeStreamReader.__del__ at 0x00000180DD810B70>\n",
      "Traceback (most recent call last):\n",
      "  File \"C:\\Users\\rafal\\Anaconda3\\lib\\site-packages\\nltk\\data.py\", line 1281, in __del__\n",
      "    self.close()\n",
      "  File \"C:\\Users\\rafal\\Anaconda3\\lib\\site-packages\\nltk\\data.py\", line 1310, in close\n",
      "    self.stream.close()\n",
      "KeyboardInterrupt\n"
     ]
    }
   ],
   "source": [
    "corpus = []\n",
    "for i in range(0, len(data)):\n",
    "    name = re.sub('[^a-zA-Z]', ' ', data_features.iloc[i, 1])\n",
    "    name = name.lower()\n",
    "    name = name.split()\n",
    "    ps = PorterStemmer()\n",
    "    name = [ps.stem(word) for word in name if not word in set(stopwords.words('english'))]\n",
    "    name = ' '.join(name)\n",
    "    corpus.append(name)"
   ]
  },
  {
   "cell_type": "code",
   "execution_count": 21,
   "metadata": {},
   "outputs": [],
   "source": [
    "# Creating the Bag of Words model\n",
    "from sklearn.feature_extraction.text import CountVectorizer\n",
    "cv = CountVectorizer(max_features = 1000)\n",
    "name_features = cv.fit_transform(corpus)"
   ]
  },
  {
   "cell_type": "code",
   "execution_count": 22,
   "metadata": {},
   "outputs": [],
   "source": [
    "df_name_features = pd.DataFrame(name_features.toarray())"
   ]
  },
  {
   "cell_type": "markdown",
   "metadata": {},
   "source": [
    "## Preprocessing the brands variable"
   ]
  },
  {
   "cell_type": "code",
   "execution_count": 1,
   "metadata": {},
   "outputs": [],
   "source": [
    "def SelectedLevelsToColumns_count(data, target, categorical, percentage=0.001, na_fill = 'no_brand_name'):\n",
    "    from sklearn.preprocessing import OneHotEncoder\n",
    "    pivot_brands = pd.pivot_table(data, values = target, index = ['brand_name'], aggfunc = ['count'])\n",
    "    pivot_brands.columns = pivot_brands.columns.get_level_values(0)\n",
    "    pv_sorted = pivot_brands.sort_values(by = ['count'], ascending = False)\n",
    "    selected_brands = pv_sorted[pv_sorted['count']>0.001*len(data)]\n",
    "    brand_list = selected_brands.index\n",
    "    brand_list = np.array(brand_list)\n",
    "    ohe = OneHotEncoder()\n",
    "    cat_data = pd.DataFrame(data['brand_name'])\n",
    "    cat_data.fillna(value = na_fill, inplace = True)\n",
    "    data['new_brand_name'] = np.where(data['brand_name'].isin(brand_list), data['brand_name'], 'other')\n",
    "    categories = ohe.fit_transform(pd.DataFrame(data['new_brand_name']))\n",
    "    data.drop(columns=['new_brand_name', 'brand_name'], axis = 1, inplace = True)\n",
    "    data.reset_index(drop = True, inplace = True)\n",
    "    data_final = pd.concat([data, pd.DataFrame(categories.toarray())], axis = 1)\n",
    "    return data_final, brand_list"
   ]
  },
  {
   "cell_type": "markdown",
   "metadata": {},
   "source": [
    "## Preprocessing the item description variable"
   ]
  },
  {
   "cell_type": "code",
   "execution_count": 8,
   "metadata": {},
   "outputs": [],
   "source": [
    "import re\n",
    "import nltk\n",
    "from nltk.corpus import stopwords\n",
    "from nltk.stem.porter import PorterStemmer\n",
    "from sklearn.feature_extraction.text import CountVectorizer"
   ]
  },
  {
   "cell_type": "code",
   "execution_count": 15,
   "metadata": {},
   "outputs": [],
   "source": [
    "def WordsToColumns(data, max_columns, column_number):\n",
    "    corpus = []\n",
    "    for i in range(0, len(data)):\n",
    "        name = re.sub('[^a-zA-Z]', ' ', data.iloc[i, column_number])\n",
    "        name = name.lower()\n",
    "        name = name.split()\n",
    "        ps = PorterStemmer()\n",
    "        name = [ps.stem(word) for word in name if not word in set(stopwords.words('english'))]\n",
    "        name = ' '.join(name)\n",
    "        corpus.append(name)    \n",
    "    # Creating the Bag of Words model\n",
    "    cv = CountVectorizer(max_features = max_columns)\n",
    "    name_features = cv.fit_transform(corpus)\n",
    "    df_name_features = pd.DataFrame(name_features.toarray())\n",
    "    return df_name_features"
   ]
  },
  {
   "cell_type": "code",
   "execution_count": 18,
   "metadata": {},
   "outputs": [],
   "source": [
    "data['item_description'].fillna(value = \"\", inplace = True)"
   ]
  },
  {
   "cell_type": "code",
   "execution_count": 20,
   "metadata": {},
   "outputs": [],
   "source": [
    "desc_prepro = WordsToColumns(data = data, max_columns=10000, column_number=7)"
   ]
  },
  {
   "cell_type": "code",
   "execution_count": 22,
   "metadata": {},
   "outputs": [],
   "source": [
    "desc_prepro.to_csv('description_preprocessed.csv')"
   ]
  },
  {
   "cell_type": "code",
   "execution_count": null,
   "metadata": {},
   "outputs": [],
   "source": []
  },
  {
   "cell_type": "code",
   "execution_count": null,
   "metadata": {},
   "outputs": [],
   "source": []
  },
  {
   "cell_type": "code",
   "execution_count": 74,
   "metadata": {},
   "outputs": [],
   "source": [
    "pivot_brands = pd.pivot_table(data, values = ['price'],index = ['brand_name'], aggfunc = ['count'])"
   ]
  },
  {
   "cell_type": "code",
   "execution_count": 75,
   "metadata": {},
   "outputs": [
    {
     "data": {
      "text/html": [
       "<div>\n",
       "<style scoped>\n",
       "    .dataframe tbody tr th:only-of-type {\n",
       "        vertical-align: middle;\n",
       "    }\n",
       "\n",
       "    .dataframe tbody tr th {\n",
       "        vertical-align: top;\n",
       "    }\n",
       "\n",
       "    .dataframe thead tr th {\n",
       "        text-align: left;\n",
       "    }\n",
       "\n",
       "    .dataframe thead tr:last-of-type th {\n",
       "        text-align: right;\n",
       "    }\n",
       "</style>\n",
       "<table border=\"1\" class=\"dataframe\">\n",
       "  <thead>\n",
       "    <tr>\n",
       "      <th></th>\n",
       "      <th>count</th>\n",
       "    </tr>\n",
       "    <tr>\n",
       "      <th></th>\n",
       "      <th>price</th>\n",
       "    </tr>\n",
       "    <tr>\n",
       "      <th>brand_name</th>\n",
       "      <th></th>\n",
       "    </tr>\n",
       "  </thead>\n",
       "  <tbody>\n",
       "    <tr>\n",
       "      <th>% Pure</th>\n",
       "      <td>6</td>\n",
       "    </tr>\n",
       "    <tr>\n",
       "      <th>3.1 Phillip Lim</th>\n",
       "      <td>2</td>\n",
       "    </tr>\n",
       "    <tr>\n",
       "      <th>47 Brand</th>\n",
       "      <td>3</td>\n",
       "    </tr>\n",
       "    <tr>\n",
       "      <th>5.11 Tactical</th>\n",
       "      <td>2</td>\n",
       "    </tr>\n",
       "    <tr>\n",
       "      <th>5th &amp; Ocean</th>\n",
       "      <td>1</td>\n",
       "    </tr>\n",
       "  </tbody>\n",
       "</table>\n",
       "</div>"
      ],
      "text/plain": [
       "                count\n",
       "                price\n",
       "brand_name           \n",
       "% Pure              6\n",
       "3.1 Phillip Lim     2\n",
       "47 Brand            3\n",
       "5.11 Tactical       2\n",
       "5th & Ocean         1"
      ]
     },
     "execution_count": 75,
     "metadata": {},
     "output_type": "execute_result"
    }
   ],
   "source": [
    "pivot_brands.head()"
   ]
  },
  {
   "cell_type": "code",
   "execution_count": 77,
   "metadata": {},
   "outputs": [],
   "source": [
    "pivot_brands.columns = pivot_brands.columns.get_level_values(0)"
   ]
  },
  {
   "cell_type": "code",
   "execution_count": 78,
   "metadata": {},
   "outputs": [],
   "source": [
    "pv_sorted = pivot_brands.sort_values(by = ['count'], ascending = False)"
   ]
  },
  {
   "cell_type": "code",
   "execution_count": 79,
   "metadata": {},
   "outputs": [],
   "source": [
    "selected_brands = pv_sorted[pv_sorted['count']>0.001*len(data)]"
   ]
  },
  {
   "cell_type": "code",
   "execution_count": 115,
   "metadata": {},
   "outputs": [
    {
     "ename": "AttributeError",
     "evalue": "'Index' object has no attribute 'toarray'",
     "output_type": "error",
     "traceback": [
      "\u001b[1;31m---------------------------------------------------------------------------\u001b[0m",
      "\u001b[1;31mAttributeError\u001b[0m                            Traceback (most recent call last)",
      "\u001b[1;32m<ipython-input-115-e96cb71bb12c>\u001b[0m in \u001b[0;36m<module>\u001b[1;34m\u001b[0m\n\u001b[1;32m----> 1\u001b[1;33m \u001b[0mbrand_list\u001b[0m \u001b[1;33m=\u001b[0m \u001b[0mselected_brands\u001b[0m\u001b[1;33m.\u001b[0m\u001b[0mindex\u001b[0m\u001b[1;33m.\u001b[0m\u001b[0mtoarray\u001b[0m\u001b[1;33m(\u001b[0m\u001b[1;33m)\u001b[0m\u001b[1;33m\u001b[0m\u001b[1;33m\u001b[0m\u001b[0m\n\u001b[0m",
      "\u001b[1;31mAttributeError\u001b[0m: 'Index' object has no attribute 'toarray'"
     ]
    }
   ],
   "source": [
    "brand_list = selected_brands.index"
   ]
  },
  {
   "cell_type": "code",
   "execution_count": 117,
   "metadata": {},
   "outputs": [],
   "source": [
    "brand_list = np.array(brand_list)"
   ]
  },
  {
   "cell_type": "code",
   "execution_count": 95,
   "metadata": {},
   "outputs": [],
   "source": [
    "from sklearn.preprocessing import OneHotEncoder"
   ]
  },
  {
   "cell_type": "code",
   "execution_count": 120,
   "metadata": {},
   "outputs": [],
   "source": [
    "ohe = OneHotEncoder()"
   ]
  },
  {
   "cell_type": "code",
   "execution_count": 103,
   "metadata": {},
   "outputs": [],
   "source": [
    "cat_data = pd.DataFrame(data['brand_name'])"
   ]
  },
  {
   "cell_type": "code",
   "execution_count": 106,
   "metadata": {},
   "outputs": [],
   "source": [
    "cat_data.fillna(value = 'no_brand_name', inplace = True)"
   ]
  },
  {
   "cell_type": "code",
   "execution_count": 126,
   "metadata": {},
   "outputs": [],
   "source": [
    "data['new_brand_name'] = np.where(data['brand_name'].isin(brand_list), data['brand_name'], 'other')"
   ]
  },
  {
   "cell_type": "code",
   "execution_count": 130,
   "metadata": {},
   "outputs": [],
   "source": [
    "categories = ohe.fit_transform(pd.DataFrame(data['new_brand_name']))"
   ]
  },
  {
   "cell_type": "code",
   "execution_count": 135,
   "metadata": {},
   "outputs": [],
   "source": [
    "data.drop(columns=['new_brand_name', 'brand_name'], axis = 1, inplace = True)"
   ]
  },
  {
   "cell_type": "code",
   "execution_count": 139,
   "metadata": {},
   "outputs": [],
   "source": [
    "data.reset_index(drop = True, inplace = True)\n",
    "data_final = pd.concat([data, pd.DataFrame(categories.toarray())], axis = 1)"
   ]
  },
  {
   "cell_type": "code",
   "execution_count": 140,
   "metadata": {},
   "outputs": [
    {
     "data": {
      "text/html": [
       "<div>\n",
       "<style scoped>\n",
       "    .dataframe tbody tr th:only-of-type {\n",
       "        vertical-align: middle;\n",
       "    }\n",
       "\n",
       "    .dataframe tbody tr th {\n",
       "        vertical-align: top;\n",
       "    }\n",
       "\n",
       "    .dataframe thead th {\n",
       "        text-align: right;\n",
       "    }\n",
       "</style>\n",
       "<table border=\"1\" class=\"dataframe\">\n",
       "  <thead>\n",
       "    <tr style=\"text-align: right;\">\n",
       "      <th></th>\n",
       "      <th>train_id</th>\n",
       "      <th>name</th>\n",
       "      <th>item_condition_id</th>\n",
       "      <th>category_name</th>\n",
       "      <th>price</th>\n",
       "      <th>shipping</th>\n",
       "      <th>item_description</th>\n",
       "      <th>0</th>\n",
       "      <th>1</th>\n",
       "      <th>2</th>\n",
       "      <th>...</th>\n",
       "      <th>97</th>\n",
       "      <th>98</th>\n",
       "      <th>99</th>\n",
       "      <th>100</th>\n",
       "      <th>101</th>\n",
       "      <th>102</th>\n",
       "      <th>103</th>\n",
       "      <th>104</th>\n",
       "      <th>105</th>\n",
       "      <th>106</th>\n",
       "    </tr>\n",
       "  </thead>\n",
       "  <tbody>\n",
       "    <tr>\n",
       "      <th>0</th>\n",
       "      <td>1151752</td>\n",
       "      <td>Beauty/health/skincare lot of items NEW</td>\n",
       "      <td>1</td>\n",
       "      <td>Beauty/Makeup/Makeup Sets</td>\n",
       "      <td>20.0</td>\n",
       "      <td>0</td>\n",
       "      <td>Lot of beauty, health, hair and skincare items...</td>\n",
       "      <td>0.0</td>\n",
       "      <td>0.0</td>\n",
       "      <td>0.0</td>\n",
       "      <td>...</td>\n",
       "      <td>0.0</td>\n",
       "      <td>0.0</td>\n",
       "      <td>0.0</td>\n",
       "      <td>0.0</td>\n",
       "      <td>0.0</td>\n",
       "      <td>0.0</td>\n",
       "      <td>0.0</td>\n",
       "      <td>1.0</td>\n",
       "      <td>0.0</td>\n",
       "      <td>0.0</td>\n",
       "    </tr>\n",
       "    <tr>\n",
       "      <th>1</th>\n",
       "      <td>1438781</td>\n",
       "      <td>2 IPHONE 7 PLUS Supreme Cases</td>\n",
       "      <td>1</td>\n",
       "      <td>Electronics/Cell Phones &amp; Accessories/Cases, C...</td>\n",
       "      <td>8.0</td>\n",
       "      <td>1</td>\n",
       "      <td>2 IPHONE 7PLUS SUPREME CASES. Also clik on my ...</td>\n",
       "      <td>0.0</td>\n",
       "      <td>0.0</td>\n",
       "      <td>0.0</td>\n",
       "      <td>...</td>\n",
       "      <td>0.0</td>\n",
       "      <td>0.0</td>\n",
       "      <td>0.0</td>\n",
       "      <td>0.0</td>\n",
       "      <td>0.0</td>\n",
       "      <td>0.0</td>\n",
       "      <td>0.0</td>\n",
       "      <td>0.0</td>\n",
       "      <td>0.0</td>\n",
       "      <td>0.0</td>\n",
       "    </tr>\n",
       "    <tr>\n",
       "      <th>2</th>\n",
       "      <td>1450193</td>\n",
       "      <td>Nike Flyknit Air Max</td>\n",
       "      <td>2</td>\n",
       "      <td>Women/Shoes/Athletic</td>\n",
       "      <td>106.0</td>\n",
       "      <td>0</td>\n",
       "      <td>Authentic Nike Flyknit Air Max running sneaker...</td>\n",
       "      <td>0.0</td>\n",
       "      <td>0.0</td>\n",
       "      <td>0.0</td>\n",
       "      <td>...</td>\n",
       "      <td>0.0</td>\n",
       "      <td>0.0</td>\n",
       "      <td>0.0</td>\n",
       "      <td>0.0</td>\n",
       "      <td>0.0</td>\n",
       "      <td>0.0</td>\n",
       "      <td>0.0</td>\n",
       "      <td>0.0</td>\n",
       "      <td>0.0</td>\n",
       "      <td>0.0</td>\n",
       "    </tr>\n",
       "    <tr>\n",
       "      <th>3</th>\n",
       "      <td>237510</td>\n",
       "      <td>Brand-new boots</td>\n",
       "      <td>2</td>\n",
       "      <td>Women/Shoes/Boots</td>\n",
       "      <td>9.0</td>\n",
       "      <td>0</td>\n",
       "      <td>Brand-new boots. Only used once! Size 8/9</td>\n",
       "      <td>0.0</td>\n",
       "      <td>0.0</td>\n",
       "      <td>0.0</td>\n",
       "      <td>...</td>\n",
       "      <td>0.0</td>\n",
       "      <td>0.0</td>\n",
       "      <td>0.0</td>\n",
       "      <td>0.0</td>\n",
       "      <td>0.0</td>\n",
       "      <td>0.0</td>\n",
       "      <td>0.0</td>\n",
       "      <td>1.0</td>\n",
       "      <td>0.0</td>\n",
       "      <td>0.0</td>\n",
       "    </tr>\n",
       "    <tr>\n",
       "      <th>4</th>\n",
       "      <td>448932</td>\n",
       "      <td>APPLE WATCH BAND 42MM AUTHENIC</td>\n",
       "      <td>1</td>\n",
       "      <td>Electronics/Cell Phones &amp; Accessories/Cell Pho...</td>\n",
       "      <td>28.0</td>\n",
       "      <td>1</td>\n",
       "      <td>MIDNIGHT BLUE NEW NEW NEW NEW!!! AUTHENTIC!</td>\n",
       "      <td>0.0</td>\n",
       "      <td>0.0</td>\n",
       "      <td>0.0</td>\n",
       "      <td>...</td>\n",
       "      <td>0.0</td>\n",
       "      <td>0.0</td>\n",
       "      <td>0.0</td>\n",
       "      <td>0.0</td>\n",
       "      <td>0.0</td>\n",
       "      <td>0.0</td>\n",
       "      <td>0.0</td>\n",
       "      <td>0.0</td>\n",
       "      <td>0.0</td>\n",
       "      <td>0.0</td>\n",
       "    </tr>\n",
       "  </tbody>\n",
       "</table>\n",
       "<p>5 rows × 114 columns</p>\n",
       "</div>"
      ],
      "text/plain": [
       "   train_id                                     name  item_condition_id  \\\n",
       "0   1151752  Beauty/health/skincare lot of items NEW                  1   \n",
       "1   1438781            2 IPHONE 7 PLUS Supreme Cases                  1   \n",
       "2   1450193                     Nike Flyknit Air Max                  2   \n",
       "3    237510                          Brand-new boots                  2   \n",
       "4    448932           APPLE WATCH BAND 42MM AUTHENIC                  1   \n",
       "\n",
       "                                       category_name  price  shipping  \\\n",
       "0                          Beauty/Makeup/Makeup Sets   20.0         0   \n",
       "1  Electronics/Cell Phones & Accessories/Cases, C...    8.0         1   \n",
       "2                               Women/Shoes/Athletic  106.0         0   \n",
       "3                                  Women/Shoes/Boots    9.0         0   \n",
       "4  Electronics/Cell Phones & Accessories/Cell Pho...   28.0         1   \n",
       "\n",
       "                                    item_description    0    1    2  ...   97  \\\n",
       "0  Lot of beauty, health, hair and skincare items...  0.0  0.0  0.0  ...  0.0   \n",
       "1  2 IPHONE 7PLUS SUPREME CASES. Also clik on my ...  0.0  0.0  0.0  ...  0.0   \n",
       "2  Authentic Nike Flyknit Air Max running sneaker...  0.0  0.0  0.0  ...  0.0   \n",
       "3          Brand-new boots. Only used once! Size 8/9  0.0  0.0  0.0  ...  0.0   \n",
       "4        MIDNIGHT BLUE NEW NEW NEW NEW!!! AUTHENTIC!  0.0  0.0  0.0  ...  0.0   \n",
       "\n",
       "    98   99  100  101  102  103  104  105  106  \n",
       "0  0.0  0.0  0.0  0.0  0.0  0.0  1.0  0.0  0.0  \n",
       "1  0.0  0.0  0.0  0.0  0.0  0.0  0.0  0.0  0.0  \n",
       "2  0.0  0.0  0.0  0.0  0.0  0.0  0.0  0.0  0.0  \n",
       "3  0.0  0.0  0.0  0.0  0.0  0.0  1.0  0.0  0.0  \n",
       "4  0.0  0.0  0.0  0.0  0.0  0.0  0.0  0.0  0.0  \n",
       "\n",
       "[5 rows x 114 columns]"
      ]
     },
     "execution_count": 140,
     "metadata": {},
     "output_type": "execute_result"
    }
   ],
   "source": [
    "data_final.head()"
   ]
  },
  {
   "cell_type": "code",
   "execution_count": 24,
   "metadata": {},
   "outputs": [],
   "source": [
    "data_features.reset_index(drop = True, inplace = True)\n",
    "data_c_name = pd.concat([data_features, df_name_features], axis = 1)"
   ]
  },
  {
   "cell_type": "code",
   "execution_count": 2,
   "metadata": {},
   "outputs": [
    {
     "ename": "NameError",
     "evalue": "name 'data' is not defined",
     "output_type": "error",
     "traceback": [
      "\u001b[1;31m---------------------------------------------------------------------------\u001b[0m",
      "\u001b[1;31mNameError\u001b[0m                                 Traceback (most recent call last)",
      "\u001b[1;32m<ipython-input-2-0572ccd830ca>\u001b[0m in \u001b[0;36m<module>\u001b[1;34m\u001b[0m\n\u001b[1;32m----> 1\u001b[1;33m \u001b[0mdata\u001b[0m\u001b[1;33m.\u001b[0m\u001b[0mhead\u001b[0m\u001b[1;33m\u001b[0m\u001b[1;33m\u001b[0m\u001b[0m\n\u001b[0m",
      "\u001b[1;31mNameError\u001b[0m: name 'data' is not defined"
     ]
    }
   ],
   "source": []
  },
  {
   "cell_type": "code",
   "execution_count": null,
   "metadata": {},
   "outputs": [],
   "source": []
  },
  {
   "cell_type": "code",
   "execution_count": null,
   "metadata": {},
   "outputs": [],
   "source": []
  },
  {
   "cell_type": "code",
   "execution_count": null,
   "metadata": {},
   "outputs": [],
   "source": []
  },
  {
   "cell_type": "code",
   "execution_count": null,
   "metadata": {},
   "outputs": [],
   "source": []
  },
  {
   "cell_type": "code",
   "execution_count": 25,
   "metadata": {},
   "outputs": [],
   "source": [
    "data_c_name.drop(columns = 'name', inplace=True)"
   ]
  },
  {
   "cell_type": "code",
   "execution_count": 27,
   "metadata": {},
   "outputs": [
    {
     "data": {
      "text/plain": [
       "2050"
      ]
     },
     "execution_count": 27,
     "metadata": {},
     "output_type": "execute_result"
    }
   ],
   "source": [
    "len(data_c_name['brand_name'].unique())"
   ]
  },
  {
   "cell_type": "code",
   "execution_count": 28,
   "metadata": {},
   "outputs": [],
   "source": [
    "brands = pd.pivot_table(data = data_cats, values = 'price', aggfunc= 'count', index = 'brand_name')"
   ]
  },
  {
   "cell_type": "code",
   "execution_count": 29,
   "metadata": {},
   "outputs": [],
   "source": [
    "brands.sort_values(by = 'price', ascending=False, inplace=True)\n",
    "brands.rename(columns = {'price':'count'}, inplace=True)"
   ]
  },
  {
   "cell_type": "code",
   "execution_count": 30,
   "metadata": {},
   "outputs": [],
   "source": [
    "from sklearn.preprocessing import OneHotEncoder\n",
    "from sklearn.compose import ColumnTransformer"
   ]
  },
  {
   "cell_type": "code",
   "execution_count": 31,
   "metadata": {},
   "outputs": [],
   "source": [
    "#preprocess = ColumnTransformer([('brand_name', OneHotEncoder(), 'brand_name')])"
   ]
  },
  {
   "cell_type": "code",
   "execution_count": 32,
   "metadata": {},
   "outputs": [],
   "source": [
    "ohe = OneHotEncoder(categorical_features=[2])"
   ]
  },
  {
   "cell_type": "code",
   "execution_count": 33,
   "metadata": {},
   "outputs": [],
   "source": [
    "#brand_names = ohe.fit_transform(data_c_name)"
   ]
  },
  {
   "cell_type": "code",
   "execution_count": null,
   "metadata": {},
   "outputs": [],
   "source": []
  },
  {
   "cell_type": "code",
   "execution_count": 34,
   "metadata": {},
   "outputs": [],
   "source": [
    "#df4 = df3[df3.columns[df3.columns.isin(brands.iloc[0:172, 0])]]"
   ]
  },
  {
   "cell_type": "code",
   "execution_count": null,
   "metadata": {},
   "outputs": [],
   "source": []
  },
  {
   "cell_type": "code",
   "execution_count": null,
   "metadata": {},
   "outputs": [],
   "source": []
  },
  {
   "cell_type": "code",
   "execution_count": null,
   "metadata": {},
   "outputs": [],
   "source": []
  },
  {
   "cell_type": "code",
   "execution_count": null,
   "metadata": {},
   "outputs": [],
   "source": []
  },
  {
   "cell_type": "code",
   "execution_count": null,
   "metadata": {},
   "outputs": [],
   "source": []
  },
  {
   "cell_type": "code",
   "execution_count": null,
   "metadata": {},
   "outputs": [],
   "source": []
  },
  {
   "cell_type": "code",
   "execution_count": 35,
   "metadata": {},
   "outputs": [],
   "source": [
    "from sklearn.preprocessing import OneHotEncoder\n",
    "from sklearn.compose import ColumnTransformer, make_column_transformer"
   ]
  },
  {
   "cell_type": "code",
   "execution_count": 36,
   "metadata": {},
   "outputs": [],
   "source": [
    "#preprocess = make_column_transformer"
   ]
  }
 ],
 "metadata": {
  "kernelspec": {
   "display_name": "Python 3",
   "language": "python",
   "name": "python3"
  },
  "language_info": {
   "codemirror_mode": {
    "name": "ipython",
    "version": 3
   },
   "file_extension": ".py",
   "mimetype": "text/x-python",
   "name": "python",
   "nbconvert_exporter": "python",
   "pygments_lexer": "ipython3",
   "version": "3.7.3"
  },
  "varInspector": {
   "cols": {
    "lenName": 16,
    "lenType": 16,
    "lenVar": 40
   },
   "kernels_config": {
    "python": {
     "delete_cmd_postfix": "",
     "delete_cmd_prefix": "del ",
     "library": "var_list.py",
     "varRefreshCmd": "print(var_dic_list())"
    },
    "r": {
     "delete_cmd_postfix": ") ",
     "delete_cmd_prefix": "rm(",
     "library": "var_list.r",
     "varRefreshCmd": "cat(var_dic_list()) "
    }
   },
   "types_to_exclude": [
    "module",
    "function",
    "builtin_function_or_method",
    "instance",
    "_Feature"
   ],
   "window_display": false
  }
 },
 "nbformat": 4,
 "nbformat_minor": 2
}
