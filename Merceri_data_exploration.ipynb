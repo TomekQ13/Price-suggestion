{
 "cells": [
  {
   "cell_type": "code",
   "execution_count": 2,
   "metadata": {},
   "outputs": [],
   "source": [
    "import pandas as pd"
   ]
  },
  {
   "cell_type": "code",
   "execution_count": 3,
   "metadata": {},
   "outputs": [],
   "source": [
    "data_full = pd.read_csv(\"C:/Users/rafal/Desktop/DS/Merceri price/train.tsv\", sep = '\\t')"
   ]
  },
  {
   "cell_type": "code",
   "execution_count": 4,
   "metadata": {},
   "outputs": [],
   "source": [
    "data = data_full.sample(100000)"
   ]
  },
  {
   "cell_type": "markdown",
   "metadata": {},
   "source": [
    "Używam tylko 100 000 obserwacji."
   ]
  },
  {
   "cell_type": "code",
   "execution_count": 121,
   "metadata": {},
   "outputs": [
    {
     "data": {
      "text/html": [
       "<div>\n",
       "<style scoped>\n",
       "    .dataframe tbody tr th:only-of-type {\n",
       "        vertical-align: middle;\n",
       "    }\n",
       "\n",
       "    .dataframe tbody tr th {\n",
       "        vertical-align: top;\n",
       "    }\n",
       "\n",
       "    .dataframe thead th {\n",
       "        text-align: right;\n",
       "    }\n",
       "</style>\n",
       "<table border=\"1\" class=\"dataframe\">\n",
       "  <thead>\n",
       "    <tr style=\"text-align: right;\">\n",
       "      <th></th>\n",
       "      <th>train_id</th>\n",
       "      <th>name</th>\n",
       "      <th>item_condition_id</th>\n",
       "      <th>category_name</th>\n",
       "      <th>brand_name</th>\n",
       "      <th>price</th>\n",
       "      <th>shipping</th>\n",
       "      <th>item_description</th>\n",
       "    </tr>\n",
       "  </thead>\n",
       "  <tbody>\n",
       "    <tr>\n",
       "      <th>360135</th>\n",
       "      <td>360135</td>\n",
       "      <td>CHANEL SPF 12 FOUNDATION IN WALNUT</td>\n",
       "      <td>2</td>\n",
       "      <td>Beauty/Makeup/Face</td>\n",
       "      <td>Chanel</td>\n",
       "      <td>30.0</td>\n",
       "      <td>1</td>\n",
       "      <td>-too dark for me -used once -like second skin ...</td>\n",
       "    </tr>\n",
       "    <tr>\n",
       "      <th>405088</th>\n",
       "      <td>405088</td>\n",
       "      <td>T-shirts</td>\n",
       "      <td>2</td>\n",
       "      <td>Women/Tops &amp; Blouses/T-Shirts</td>\n",
       "      <td>NaN</td>\n",
       "      <td>7.0</td>\n",
       "      <td>0</td>\n",
       "      <td>XL size Check out my other items to save on sh...</td>\n",
       "    </tr>\n",
       "    <tr>\n",
       "      <th>100509</th>\n",
       "      <td>100509</td>\n",
       "      <td>14K Amethyst Ring</td>\n",
       "      <td>1</td>\n",
       "      <td>Women/Jewelry/Rings</td>\n",
       "      <td>NaN</td>\n",
       "      <td>10.0</td>\n",
       "      <td>1</td>\n",
       "      <td>Size 7 1/2. White gold filled, amethyst ring. ...</td>\n",
       "    </tr>\n",
       "    <tr>\n",
       "      <th>543338</th>\n",
       "      <td>543338</td>\n",
       "      <td>karaoke singing machine</td>\n",
       "      <td>3</td>\n",
       "      <td>Other/Musical instruments/DJ, Electronic Music...</td>\n",
       "      <td>Singing Machine</td>\n",
       "      <td>15.0</td>\n",
       "      <td>0</td>\n",
       "      <td>The singing machine doesn't come with micropho...</td>\n",
       "    </tr>\n",
       "    <tr>\n",
       "      <th>1286895</th>\n",
       "      <td>1286895</td>\n",
       "      <td>Adidas</td>\n",
       "      <td>3</td>\n",
       "      <td>Men/Shoes/Athletic</td>\n",
       "      <td>Adidas</td>\n",
       "      <td>12.0</td>\n",
       "      <td>0</td>\n",
       "      <td>Light weight Good condition/ lots of life left :)</td>\n",
       "    </tr>\n",
       "  </tbody>\n",
       "</table>\n",
       "</div>"
      ],
      "text/plain": [
       "         train_id                                name  item_condition_id  \\\n",
       "360135     360135  CHANEL SPF 12 FOUNDATION IN WALNUT                  2   \n",
       "405088     405088                            T-shirts                  2   \n",
       "100509     100509                   14K Amethyst Ring                  1   \n",
       "543338     543338             karaoke singing machine                  3   \n",
       "1286895   1286895                              Adidas                  3   \n",
       "\n",
       "                                             category_name       brand_name  \\\n",
       "360135                                  Beauty/Makeup/Face           Chanel   \n",
       "405088                       Women/Tops & Blouses/T-Shirts              NaN   \n",
       "100509                                 Women/Jewelry/Rings              NaN   \n",
       "543338   Other/Musical instruments/DJ, Electronic Music...  Singing Machine   \n",
       "1286895                                 Men/Shoes/Athletic           Adidas   \n",
       "\n",
       "         price  shipping                                   item_description  \n",
       "360135    30.0         1  -too dark for me -used once -like second skin ...  \n",
       "405088     7.0         0  XL size Check out my other items to save on sh...  \n",
       "100509    10.0         1  Size 7 1/2. White gold filled, amethyst ring. ...  \n",
       "543338    15.0         0  The singing machine doesn't come with micropho...  \n",
       "1286895   12.0         0  Light weight Good condition/ lots of life left :)  "
      ]
     },
     "execution_count": 121,
     "metadata": {},
     "output_type": "execute_result"
    }
   ],
   "source": [
    "data.head()"
   ]
  },
  {
   "cell_type": "code",
   "execution_count": 28,
   "metadata": {},
   "outputs": [],
   "source": [
    "pv = pd.pivot_table(data, values = ['price'],index = ['brand_name'], aggfunc = ['count', np.mean, np.median])"
   ]
  },
  {
   "cell_type": "code",
   "execution_count": 29,
   "metadata": {},
   "outputs": [],
   "source": [
    "pv.columns = pv.columns.get_level_values(0)"
   ]
  },
  {
   "cell_type": "code",
   "execution_count": 37,
   "metadata": {},
   "outputs": [],
   "source": [
    "pv_sorted = pv.sort_values(by = ['count'], ascending = False)"
   ]
  },
  {
   "cell_type": "code",
   "execution_count": 61,
   "metadata": {},
   "outputs": [
    {
     "data": {
      "text/html": [
       "<div>\n",
       "<style scoped>\n",
       "    .dataframe tbody tr th:only-of-type {\n",
       "        vertical-align: middle;\n",
       "    }\n",
       "\n",
       "    .dataframe tbody tr th {\n",
       "        vertical-align: top;\n",
       "    }\n",
       "\n",
       "    .dataframe thead th {\n",
       "        text-align: right;\n",
       "    }\n",
       "</style>\n",
       "<table border=\"1\" class=\"dataframe\">\n",
       "  <thead>\n",
       "    <tr style=\"text-align: right;\">\n",
       "      <th></th>\n",
       "      <th>train_id</th>\n",
       "      <th>item_condition_id</th>\n",
       "      <th>price</th>\n",
       "      <th>shipping</th>\n",
       "    </tr>\n",
       "  </thead>\n",
       "  <tbody>\n",
       "    <tr>\n",
       "      <th>count</th>\n",
       "      <td>1.482535e+06</td>\n",
       "      <td>1.482535e+06</td>\n",
       "      <td>1.482535e+06</td>\n",
       "      <td>1.482535e+06</td>\n",
       "    </tr>\n",
       "    <tr>\n",
       "      <th>mean</th>\n",
       "      <td>7.412670e+05</td>\n",
       "      <td>1.907380e+00</td>\n",
       "      <td>2.673752e+01</td>\n",
       "      <td>4.472744e-01</td>\n",
       "    </tr>\n",
       "    <tr>\n",
       "      <th>std</th>\n",
       "      <td>4.279711e+05</td>\n",
       "      <td>9.031586e-01</td>\n",
       "      <td>3.858607e+01</td>\n",
       "      <td>4.972124e-01</td>\n",
       "    </tr>\n",
       "    <tr>\n",
       "      <th>min</th>\n",
       "      <td>0.000000e+00</td>\n",
       "      <td>1.000000e+00</td>\n",
       "      <td>0.000000e+00</td>\n",
       "      <td>0.000000e+00</td>\n",
       "    </tr>\n",
       "    <tr>\n",
       "      <th>25%</th>\n",
       "      <td>3.706335e+05</td>\n",
       "      <td>1.000000e+00</td>\n",
       "      <td>1.000000e+01</td>\n",
       "      <td>0.000000e+00</td>\n",
       "    </tr>\n",
       "    <tr>\n",
       "      <th>50%</th>\n",
       "      <td>7.412670e+05</td>\n",
       "      <td>2.000000e+00</td>\n",
       "      <td>1.700000e+01</td>\n",
       "      <td>0.000000e+00</td>\n",
       "    </tr>\n",
       "    <tr>\n",
       "      <th>75%</th>\n",
       "      <td>1.111900e+06</td>\n",
       "      <td>3.000000e+00</td>\n",
       "      <td>2.900000e+01</td>\n",
       "      <td>1.000000e+00</td>\n",
       "    </tr>\n",
       "    <tr>\n",
       "      <th>max</th>\n",
       "      <td>1.482534e+06</td>\n",
       "      <td>5.000000e+00</td>\n",
       "      <td>2.009000e+03</td>\n",
       "      <td>1.000000e+00</td>\n",
       "    </tr>\n",
       "  </tbody>\n",
       "</table>\n",
       "</div>"
      ],
      "text/plain": [
       "           train_id  item_condition_id         price      shipping\n",
       "count  1.482535e+06       1.482535e+06  1.482535e+06  1.482535e+06\n",
       "mean   7.412670e+05       1.907380e+00  2.673752e+01  4.472744e-01\n",
       "std    4.279711e+05       9.031586e-01  3.858607e+01  4.972124e-01\n",
       "min    0.000000e+00       1.000000e+00  0.000000e+00  0.000000e+00\n",
       "25%    3.706335e+05       1.000000e+00  1.000000e+01  0.000000e+00\n",
       "50%    7.412670e+05       2.000000e+00  1.700000e+01  0.000000e+00\n",
       "75%    1.111900e+06       3.000000e+00  2.900000e+01  1.000000e+00\n",
       "max    1.482534e+06       5.000000e+00  2.009000e+03  1.000000e+00"
      ]
     },
     "execution_count": 61,
     "metadata": {},
     "output_type": "execute_result"
    }
   ],
   "source": [
    "data.describe()"
   ]
  },
  {
   "cell_type": "code",
   "execution_count": 5,
   "metadata": {},
   "outputs": [],
   "source": [
    "categories = data['category_name'].str.split('/', 3, expand = True)"
   ]
  },
  {
   "cell_type": "code",
   "execution_count": 6,
   "metadata": {},
   "outputs": [
    {
     "data": {
      "text/plain": [
       "0      418\n",
       "1      418\n",
       "2      418\n",
       "3    99700\n",
       "dtype: int64"
      ]
     },
     "execution_count": 6,
     "metadata": {},
     "output_type": "execute_result"
    }
   ],
   "source": [
    "categories.isna().sum()"
   ]
  },
  {
   "cell_type": "markdown",
   "metadata": {},
   "source": [
    "Wyrzucam 4 poziom kategorii i uzupełniamy NA."
   ]
  },
  {
   "cell_type": "code",
   "execution_count": 8,
   "metadata": {},
   "outputs": [],
   "source": [
    "categories = categories.drop(columns = 3, axis = 1)\n",
    "categories = categories.fillna(value = 'No_category')"
   ]
  },
  {
   "cell_type": "code",
   "execution_count": 9,
   "metadata": {},
   "outputs": [
    {
     "data": {
      "text/html": [
       "<div>\n",
       "<style scoped>\n",
       "    .dataframe tbody tr th:only-of-type {\n",
       "        vertical-align: middle;\n",
       "    }\n",
       "\n",
       "    .dataframe tbody tr th {\n",
       "        vertical-align: top;\n",
       "    }\n",
       "\n",
       "    .dataframe thead th {\n",
       "        text-align: right;\n",
       "    }\n",
       "</style>\n",
       "<table border=\"1\" class=\"dataframe\">\n",
       "  <thead>\n",
       "    <tr style=\"text-align: right;\">\n",
       "      <th></th>\n",
       "      <th>0</th>\n",
       "      <th>1</th>\n",
       "      <th>2</th>\n",
       "    </tr>\n",
       "  </thead>\n",
       "  <tbody>\n",
       "    <tr>\n",
       "      <th>775838</th>\n",
       "      <td>Beauty</td>\n",
       "      <td>Fragrance</td>\n",
       "      <td>Women</td>\n",
       "    </tr>\n",
       "    <tr>\n",
       "      <th>984982</th>\n",
       "      <td>Other</td>\n",
       "      <td>Daily &amp; Travel items</td>\n",
       "      <td>Health Care</td>\n",
       "    </tr>\n",
       "    <tr>\n",
       "      <th>1144303</th>\n",
       "      <td>Kids</td>\n",
       "      <td>Girls (4+)</td>\n",
       "      <td>Coats &amp; Jackets</td>\n",
       "    </tr>\n",
       "    <tr>\n",
       "      <th>1222558</th>\n",
       "      <td>Women</td>\n",
       "      <td>Sweaters</td>\n",
       "      <td>Crewneck</td>\n",
       "    </tr>\n",
       "    <tr>\n",
       "      <th>1110435</th>\n",
       "      <td>Women</td>\n",
       "      <td>Swimwear</td>\n",
       "      <td>One-Piece</td>\n",
       "    </tr>\n",
       "  </tbody>\n",
       "</table>\n",
       "</div>"
      ],
      "text/plain": [
       "              0                     1                2\n",
       "775838   Beauty             Fragrance            Women\n",
       "984982    Other  Daily & Travel items      Health Care\n",
       "1144303    Kids            Girls (4+)  Coats & Jackets\n",
       "1222558   Women              Sweaters         Crewneck\n",
       "1110435   Women              Swimwear        One-Piece"
      ]
     },
     "execution_count": 9,
     "metadata": {},
     "output_type": "execute_result"
    }
   ],
   "source": [
    "categories.head()"
   ]
  },
  {
   "cell_type": "code",
   "execution_count": 10,
   "metadata": {},
   "outputs": [
    {
     "data": {
      "text/plain": [
       "0    0\n",
       "1    0\n",
       "2    0\n",
       "dtype: int64"
      ]
     },
     "execution_count": 10,
     "metadata": {},
     "output_type": "execute_result"
    }
   ],
   "source": [
    "categories.isna().sum()"
   ]
  },
  {
   "cell_type": "code",
   "execution_count": 11,
   "metadata": {},
   "outputs": [],
   "source": [
    "data_cats = pd.concat([data, categories], axis = 1)"
   ]
  },
  {
   "cell_type": "code",
   "execution_count": 13,
   "metadata": {},
   "outputs": [
    {
     "data": {
      "text/html": [
       "<div>\n",
       "<style scoped>\n",
       "    .dataframe tbody tr th:only-of-type {\n",
       "        vertical-align: middle;\n",
       "    }\n",
       "\n",
       "    .dataframe tbody tr th {\n",
       "        vertical-align: top;\n",
       "    }\n",
       "\n",
       "    .dataframe thead th {\n",
       "        text-align: right;\n",
       "    }\n",
       "</style>\n",
       "<table border=\"1\" class=\"dataframe\">\n",
       "  <thead>\n",
       "    <tr style=\"text-align: right;\">\n",
       "      <th></th>\n",
       "      <th>train_id</th>\n",
       "      <th>name</th>\n",
       "      <th>item_condition_id</th>\n",
       "      <th>category_name</th>\n",
       "      <th>brand_name</th>\n",
       "      <th>price</th>\n",
       "      <th>shipping</th>\n",
       "      <th>item_description</th>\n",
       "      <th>0</th>\n",
       "      <th>1</th>\n",
       "      <th>2</th>\n",
       "    </tr>\n",
       "  </thead>\n",
       "  <tbody>\n",
       "    <tr>\n",
       "      <th>775838</th>\n",
       "      <td>775838</td>\n",
       "      <td>Chanel Coco Mademoiselle</td>\n",
       "      <td>1</td>\n",
       "      <td>Beauty/Fragrance/Women</td>\n",
       "      <td>Chanel</td>\n",
       "      <td>81.0</td>\n",
       "      <td>0</td>\n",
       "      <td>It's brand new and 100% authentic. This is a g...</td>\n",
       "      <td>Beauty</td>\n",
       "      <td>Fragrance</td>\n",
       "      <td>Women</td>\n",
       "    </tr>\n",
       "    <tr>\n",
       "      <th>984982</th>\n",
       "      <td>984982</td>\n",
       "      <td>Young living Raven</td>\n",
       "      <td>3</td>\n",
       "      <td>Other/Daily &amp; Travel items/Health Care</td>\n",
       "      <td>NaN</td>\n",
       "      <td>13.0</td>\n",
       "      <td>0</td>\n",
       "      <td>Partially used as shown in pic</td>\n",
       "      <td>Other</td>\n",
       "      <td>Daily &amp; Travel items</td>\n",
       "      <td>Health Care</td>\n",
       "    </tr>\n",
       "    <tr>\n",
       "      <th>1144303</th>\n",
       "      <td>1144303</td>\n",
       "      <td>Nwt Northface Reversible Jacket xs 6</td>\n",
       "      <td>1</td>\n",
       "      <td>Kids/Girls (4+)/Coats &amp; Jackets</td>\n",
       "      <td>The North Face</td>\n",
       "      <td>56.0</td>\n",
       "      <td>0</td>\n",
       "      <td>Girls extra small xs 6 Northface jacket Super ...</td>\n",
       "      <td>Kids</td>\n",
       "      <td>Girls (4+)</td>\n",
       "      <td>Coats &amp; Jackets</td>\n",
       "    </tr>\n",
       "    <tr>\n",
       "      <th>1222558</th>\n",
       "      <td>1222558</td>\n",
       "      <td>Lauren Conrad knit sweater!</td>\n",
       "      <td>2</td>\n",
       "      <td>Women/Sweaters/Crewneck</td>\n",
       "      <td>LC Lauren Conrad</td>\n",
       "      <td>8.0</td>\n",
       "      <td>1</td>\n",
       "      <td>Like new! Light pink!</td>\n",
       "      <td>Women</td>\n",
       "      <td>Sweaters</td>\n",
       "      <td>Crewneck</td>\n",
       "    </tr>\n",
       "    <tr>\n",
       "      <th>1110435</th>\n",
       "      <td>1110435</td>\n",
       "      <td>ONE PIECE bathing suit</td>\n",
       "      <td>2</td>\n",
       "      <td>Women/Swimwear/One-Piece</td>\n",
       "      <td>NaN</td>\n",
       "      <td>17.0</td>\n",
       "      <td>0</td>\n",
       "      <td>This is just for the one piece! Size small/medium</td>\n",
       "      <td>Women</td>\n",
       "      <td>Swimwear</td>\n",
       "      <td>One-Piece</td>\n",
       "    </tr>\n",
       "  </tbody>\n",
       "</table>\n",
       "</div>"
      ],
      "text/plain": [
       "         train_id                                  name  item_condition_id  \\\n",
       "775838     775838              Chanel Coco Mademoiselle                  1   \n",
       "984982     984982                    Young living Raven                  3   \n",
       "1144303   1144303  Nwt Northface Reversible Jacket xs 6                  1   \n",
       "1222558   1222558           Lauren Conrad knit sweater!                  2   \n",
       "1110435   1110435                ONE PIECE bathing suit                  2   \n",
       "\n",
       "                                  category_name        brand_name  price  \\\n",
       "775838                   Beauty/Fragrance/Women            Chanel   81.0   \n",
       "984982   Other/Daily & Travel items/Health Care               NaN   13.0   \n",
       "1144303         Kids/Girls (4+)/Coats & Jackets    The North Face   56.0   \n",
       "1222558                 Women/Sweaters/Crewneck  LC Lauren Conrad    8.0   \n",
       "1110435                Women/Swimwear/One-Piece               NaN   17.0   \n",
       "\n",
       "         shipping                                   item_description       0  \\\n",
       "775838          0  It's brand new and 100% authentic. This is a g...  Beauty   \n",
       "984982          0                     Partially used as shown in pic   Other   \n",
       "1144303         0  Girls extra small xs 6 Northface jacket Super ...    Kids   \n",
       "1222558         1                              Like new! Light pink!   Women   \n",
       "1110435         0  This is just for the one piece! Size small/medium   Women   \n",
       "\n",
       "                            1                2  \n",
       "775838              Fragrance            Women  \n",
       "984982   Daily & Travel items      Health Care  \n",
       "1144303            Girls (4+)  Coats & Jackets  \n",
       "1222558              Sweaters         Crewneck  \n",
       "1110435              Swimwear        One-Piece  "
      ]
     },
     "execution_count": 13,
     "metadata": {},
     "output_type": "execute_result"
    }
   ],
   "source": [
    "data_cats.head()"
   ]
  },
  {
   "cell_type": "code",
   "execution_count": 14,
   "metadata": {},
   "outputs": [],
   "source": [
    "y = data_cats.loc[:, 'price']\n",
    "data_features = data_cats.drop(columns = ['price', 'category_name'], axis = 1)"
   ]
  },
  {
   "cell_type": "code",
   "execution_count": 15,
   "metadata": {},
   "outputs": [],
   "source": [
    "data_features.loc[:, 'brand_name'] = data_features.loc[:, 'brand_name'].fillna(value = 'No_brand_name')"
   ]
  },
  {
   "cell_type": "code",
   "execution_count": 16,
   "metadata": {},
   "outputs": [
    {
     "data": {
      "text/html": [
       "<div>\n",
       "<style scoped>\n",
       "    .dataframe tbody tr th:only-of-type {\n",
       "        vertical-align: middle;\n",
       "    }\n",
       "\n",
       "    .dataframe tbody tr th {\n",
       "        vertical-align: top;\n",
       "    }\n",
       "\n",
       "    .dataframe thead th {\n",
       "        text-align: right;\n",
       "    }\n",
       "</style>\n",
       "<table border=\"1\" class=\"dataframe\">\n",
       "  <thead>\n",
       "    <tr style=\"text-align: right;\">\n",
       "      <th></th>\n",
       "      <th>train_id</th>\n",
       "      <th>name</th>\n",
       "      <th>item_condition_id</th>\n",
       "      <th>brand_name</th>\n",
       "      <th>shipping</th>\n",
       "      <th>item_description</th>\n",
       "      <th>0</th>\n",
       "      <th>1</th>\n",
       "      <th>2</th>\n",
       "    </tr>\n",
       "  </thead>\n",
       "  <tbody>\n",
       "    <tr>\n",
       "      <th>775838</th>\n",
       "      <td>775838</td>\n",
       "      <td>Chanel Coco Mademoiselle</td>\n",
       "      <td>1</td>\n",
       "      <td>Chanel</td>\n",
       "      <td>0</td>\n",
       "      <td>It's brand new and 100% authentic. This is a g...</td>\n",
       "      <td>Beauty</td>\n",
       "      <td>Fragrance</td>\n",
       "      <td>Women</td>\n",
       "    </tr>\n",
       "    <tr>\n",
       "      <th>984982</th>\n",
       "      <td>984982</td>\n",
       "      <td>Young living Raven</td>\n",
       "      <td>3</td>\n",
       "      <td>No_brand_name</td>\n",
       "      <td>0</td>\n",
       "      <td>Partially used as shown in pic</td>\n",
       "      <td>Other</td>\n",
       "      <td>Daily &amp; Travel items</td>\n",
       "      <td>Health Care</td>\n",
       "    </tr>\n",
       "    <tr>\n",
       "      <th>1144303</th>\n",
       "      <td>1144303</td>\n",
       "      <td>Nwt Northface Reversible Jacket xs 6</td>\n",
       "      <td>1</td>\n",
       "      <td>The North Face</td>\n",
       "      <td>0</td>\n",
       "      <td>Girls extra small xs 6 Northface jacket Super ...</td>\n",
       "      <td>Kids</td>\n",
       "      <td>Girls (4+)</td>\n",
       "      <td>Coats &amp; Jackets</td>\n",
       "    </tr>\n",
       "    <tr>\n",
       "      <th>1222558</th>\n",
       "      <td>1222558</td>\n",
       "      <td>Lauren Conrad knit sweater!</td>\n",
       "      <td>2</td>\n",
       "      <td>LC Lauren Conrad</td>\n",
       "      <td>1</td>\n",
       "      <td>Like new! Light pink!</td>\n",
       "      <td>Women</td>\n",
       "      <td>Sweaters</td>\n",
       "      <td>Crewneck</td>\n",
       "    </tr>\n",
       "    <tr>\n",
       "      <th>1110435</th>\n",
       "      <td>1110435</td>\n",
       "      <td>ONE PIECE bathing suit</td>\n",
       "      <td>2</td>\n",
       "      <td>No_brand_name</td>\n",
       "      <td>0</td>\n",
       "      <td>This is just for the one piece! Size small/medium</td>\n",
       "      <td>Women</td>\n",
       "      <td>Swimwear</td>\n",
       "      <td>One-Piece</td>\n",
       "    </tr>\n",
       "  </tbody>\n",
       "</table>\n",
       "</div>"
      ],
      "text/plain": [
       "         train_id                                  name  item_condition_id  \\\n",
       "775838     775838              Chanel Coco Mademoiselle                  1   \n",
       "984982     984982                    Young living Raven                  3   \n",
       "1144303   1144303  Nwt Northface Reversible Jacket xs 6                  1   \n",
       "1222558   1222558           Lauren Conrad knit sweater!                  2   \n",
       "1110435   1110435                ONE PIECE bathing suit                  2   \n",
       "\n",
       "               brand_name  shipping  \\\n",
       "775838             Chanel         0   \n",
       "984982      No_brand_name         0   \n",
       "1144303    The North Face         0   \n",
       "1222558  LC Lauren Conrad         1   \n",
       "1110435     No_brand_name         0   \n",
       "\n",
       "                                          item_description       0  \\\n",
       "775838   It's brand new and 100% authentic. This is a g...  Beauty   \n",
       "984982                      Partially used as shown in pic   Other   \n",
       "1144303  Girls extra small xs 6 Northface jacket Super ...    Kids   \n",
       "1222558                              Like new! Light pink!   Women   \n",
       "1110435  This is just for the one piece! Size small/medium   Women   \n",
       "\n",
       "                            1                2  \n",
       "775838              Fragrance            Women  \n",
       "984982   Daily & Travel items      Health Care  \n",
       "1144303            Girls (4+)  Coats & Jackets  \n",
       "1222558              Sweaters         Crewneck  \n",
       "1110435              Swimwear        One-Piece  "
      ]
     },
     "execution_count": 16,
     "metadata": {},
     "output_type": "execute_result"
    }
   ],
   "source": [
    "data_features.head()"
   ]
  },
  {
   "cell_type": "markdown",
   "metadata": {},
   "source": [
    "## Preprocessing the name variable"
   ]
  },
  {
   "cell_type": "code",
   "execution_count": 1,
   "metadata": {},
   "outputs": [
    {
     "name": "stderr",
     "output_type": "stream",
     "text": [
      "[nltk_data] Downloading package stopwords to\n",
      "[nltk_data]     C:\\Users\\rafal\\AppData\\Roaming\\nltk_data...\n",
      "[nltk_data]   Package stopwords is already up-to-date!\n"
     ]
    }
   ],
   "source": [
    "import re\n",
    "import nltk\n",
    "nltk.download('stopwords')\n",
    "from nltk.corpus import stopwords\n",
    "from nltk.stem.porter import PorterStemmer"
   ]
  },
  {
   "cell_type": "code",
   "execution_count": 44,
   "metadata": {},
   "outputs": [],
   "source": [
    "corpus = []\n",
    "for i in range(0, 100000):\n",
    "    name = re.sub('[^a-zA-Z]', ' ', data_features.iloc[i, 1])\n",
    "    name = name.lower()\n",
    "    name = name.split()\n",
    "    ps = PorterStemmer()\n",
    "    name = [ps.stem(word) for word in name if not word in set(stopwords.words('english'))]\n",
    "    name = ' '.join(name)\n",
    "    corpus.append(name)"
   ]
  },
  {
   "cell_type": "code",
   "execution_count": 46,
   "metadata": {},
   "outputs": [],
   "source": [
    "# Creating the Bag of Words model\n",
    "from sklearn.feature_extraction.text import CountVectorizer\n",
    "cv = CountVectorizer(max_features = 1000)\n",
    "name_features = cv.fit_transform(corpus)"
   ]
  },
  {
   "cell_type": "code",
   "execution_count": 60,
   "metadata": {},
   "outputs": [],
   "source": [
    "df_name_features = pd.DataFrame(name_features.toarray())"
   ]
  },
  {
   "cell_type": "code",
   "execution_count": 69,
   "metadata": {},
   "outputs": [
    {
     "data": {
      "text/html": [
       "<div>\n",
       "<style scoped>\n",
       "    .dataframe tbody tr th:only-of-type {\n",
       "        vertical-align: middle;\n",
       "    }\n",
       "\n",
       "    .dataframe tbody tr th {\n",
       "        vertical-align: top;\n",
       "    }\n",
       "\n",
       "    .dataframe thead th {\n",
       "        text-align: right;\n",
       "    }\n",
       "</style>\n",
       "<table border=\"1\" class=\"dataframe\">\n",
       "  <thead>\n",
       "    <tr style=\"text-align: right;\">\n",
       "      <th></th>\n",
       "      <th>0</th>\n",
       "      <th>1</th>\n",
       "      <th>2</th>\n",
       "      <th>3</th>\n",
       "      <th>4</th>\n",
       "      <th>5</th>\n",
       "      <th>6</th>\n",
       "      <th>7</th>\n",
       "      <th>8</th>\n",
       "      <th>9</th>\n",
       "      <th>...</th>\n",
       "      <th>990</th>\n",
       "      <th>991</th>\n",
       "      <th>992</th>\n",
       "      <th>993</th>\n",
       "      <th>994</th>\n",
       "      <th>995</th>\n",
       "      <th>996</th>\n",
       "      <th>997</th>\n",
       "      <th>998</th>\n",
       "      <th>999</th>\n",
       "    </tr>\n",
       "  </thead>\n",
       "  <tbody>\n",
       "    <tr>\n",
       "      <th>0</th>\n",
       "      <td>0</td>\n",
       "      <td>0</td>\n",
       "      <td>0</td>\n",
       "      <td>0</td>\n",
       "      <td>0</td>\n",
       "      <td>0</td>\n",
       "      <td>0</td>\n",
       "      <td>0</td>\n",
       "      <td>0</td>\n",
       "      <td>0</td>\n",
       "      <td>...</td>\n",
       "      <td>0</td>\n",
       "      <td>0</td>\n",
       "      <td>0</td>\n",
       "      <td>0</td>\n",
       "      <td>0</td>\n",
       "      <td>0</td>\n",
       "      <td>0</td>\n",
       "      <td>0</td>\n",
       "      <td>0</td>\n",
       "      <td>0</td>\n",
       "    </tr>\n",
       "    <tr>\n",
       "      <th>1</th>\n",
       "      <td>0</td>\n",
       "      <td>0</td>\n",
       "      <td>0</td>\n",
       "      <td>0</td>\n",
       "      <td>0</td>\n",
       "      <td>0</td>\n",
       "      <td>0</td>\n",
       "      <td>0</td>\n",
       "      <td>0</td>\n",
       "      <td>0</td>\n",
       "      <td>...</td>\n",
       "      <td>0</td>\n",
       "      <td>0</td>\n",
       "      <td>0</td>\n",
       "      <td>0</td>\n",
       "      <td>0</td>\n",
       "      <td>0</td>\n",
       "      <td>0</td>\n",
       "      <td>0</td>\n",
       "      <td>0</td>\n",
       "      <td>0</td>\n",
       "    </tr>\n",
       "    <tr>\n",
       "      <th>2</th>\n",
       "      <td>0</td>\n",
       "      <td>0</td>\n",
       "      <td>0</td>\n",
       "      <td>0</td>\n",
       "      <td>0</td>\n",
       "      <td>0</td>\n",
       "      <td>0</td>\n",
       "      <td>0</td>\n",
       "      <td>0</td>\n",
       "      <td>0</td>\n",
       "      <td>...</td>\n",
       "      <td>0</td>\n",
       "      <td>0</td>\n",
       "      <td>0</td>\n",
       "      <td>0</td>\n",
       "      <td>0</td>\n",
       "      <td>0</td>\n",
       "      <td>0</td>\n",
       "      <td>0</td>\n",
       "      <td>0</td>\n",
       "      <td>0</td>\n",
       "    </tr>\n",
       "    <tr>\n",
       "      <th>3</th>\n",
       "      <td>0</td>\n",
       "      <td>0</td>\n",
       "      <td>0</td>\n",
       "      <td>0</td>\n",
       "      <td>0</td>\n",
       "      <td>0</td>\n",
       "      <td>0</td>\n",
       "      <td>0</td>\n",
       "      <td>0</td>\n",
       "      <td>0</td>\n",
       "      <td>...</td>\n",
       "      <td>0</td>\n",
       "      <td>0</td>\n",
       "      <td>0</td>\n",
       "      <td>0</td>\n",
       "      <td>0</td>\n",
       "      <td>0</td>\n",
       "      <td>0</td>\n",
       "      <td>0</td>\n",
       "      <td>0</td>\n",
       "      <td>0</td>\n",
       "    </tr>\n",
       "    <tr>\n",
       "      <th>4</th>\n",
       "      <td>0</td>\n",
       "      <td>0</td>\n",
       "      <td>0</td>\n",
       "      <td>0</td>\n",
       "      <td>0</td>\n",
       "      <td>0</td>\n",
       "      <td>0</td>\n",
       "      <td>0</td>\n",
       "      <td>0</td>\n",
       "      <td>0</td>\n",
       "      <td>...</td>\n",
       "      <td>0</td>\n",
       "      <td>0</td>\n",
       "      <td>0</td>\n",
       "      <td>0</td>\n",
       "      <td>0</td>\n",
       "      <td>0</td>\n",
       "      <td>0</td>\n",
       "      <td>0</td>\n",
       "      <td>0</td>\n",
       "      <td>0</td>\n",
       "    </tr>\n",
       "  </tbody>\n",
       "</table>\n",
       "<p>5 rows × 1000 columns</p>\n",
       "</div>"
      ],
      "text/plain": [
       "   0    1    2    3    4    5    6    7    8    9    ...  990  991  992  993  \\\n",
       "0    0    0    0    0    0    0    0    0    0    0  ...    0    0    0    0   \n",
       "1    0    0    0    0    0    0    0    0    0    0  ...    0    0    0    0   \n",
       "2    0    0    0    0    0    0    0    0    0    0  ...    0    0    0    0   \n",
       "3    0    0    0    0    0    0    0    0    0    0  ...    0    0    0    0   \n",
       "4    0    0    0    0    0    0    0    0    0    0  ...    0    0    0    0   \n",
       "\n",
       "   994  995  996  997  998  999  \n",
       "0    0    0    0    0    0    0  \n",
       "1    0    0    0    0    0    0  \n",
       "2    0    0    0    0    0    0  \n",
       "3    0    0    0    0    0    0  \n",
       "4    0    0    0    0    0    0  \n",
       "\n",
       "[5 rows x 1000 columns]"
      ]
     },
     "execution_count": 69,
     "metadata": {},
     "output_type": "execute_result"
    }
   ],
   "source": [
    "df_name_features.head()"
   ]
  },
  {
   "cell_type": "code",
   "execution_count": 71,
   "metadata": {},
   "outputs": [],
   "source": [
    "data_features.reset_index(drop = True, inplace = True)\n",
    "data_c_name = pd.concat([data_features, df_name_features], axis = 1)"
   ]
  },
  {
   "cell_type": "code",
   "execution_count": 73,
   "metadata": {},
   "outputs": [],
   "source": [
    "data_c_name.drop(columns = 'name', inplace=True)"
   ]
  },
  {
   "cell_type": "code",
   "execution_count": 74,
   "metadata": {},
   "outputs": [
    {
     "data": {
      "text/html": [
       "<div>\n",
       "<style scoped>\n",
       "    .dataframe tbody tr th:only-of-type {\n",
       "        vertical-align: middle;\n",
       "    }\n",
       "\n",
       "    .dataframe tbody tr th {\n",
       "        vertical-align: top;\n",
       "    }\n",
       "\n",
       "    .dataframe thead th {\n",
       "        text-align: right;\n",
       "    }\n",
       "</style>\n",
       "<table border=\"1\" class=\"dataframe\">\n",
       "  <thead>\n",
       "    <tr style=\"text-align: right;\">\n",
       "      <th></th>\n",
       "      <th>train_id</th>\n",
       "      <th>item_condition_id</th>\n",
       "      <th>brand_name</th>\n",
       "      <th>shipping</th>\n",
       "      <th>item_description</th>\n",
       "      <th>0</th>\n",
       "      <th>1</th>\n",
       "      <th>2</th>\n",
       "      <th>0</th>\n",
       "      <th>1</th>\n",
       "      <th>...</th>\n",
       "      <th>990</th>\n",
       "      <th>991</th>\n",
       "      <th>992</th>\n",
       "      <th>993</th>\n",
       "      <th>994</th>\n",
       "      <th>995</th>\n",
       "      <th>996</th>\n",
       "      <th>997</th>\n",
       "      <th>998</th>\n",
       "      <th>999</th>\n",
       "    </tr>\n",
       "  </thead>\n",
       "  <tbody>\n",
       "    <tr>\n",
       "      <th>0</th>\n",
       "      <td>775838</td>\n",
       "      <td>1</td>\n",
       "      <td>Chanel</td>\n",
       "      <td>0</td>\n",
       "      <td>It's brand new and 100% authentic. This is a g...</td>\n",
       "      <td>Beauty</td>\n",
       "      <td>Fragrance</td>\n",
       "      <td>Women</td>\n",
       "      <td>0</td>\n",
       "      <td>0</td>\n",
       "      <td>...</td>\n",
       "      <td>0</td>\n",
       "      <td>0</td>\n",
       "      <td>0</td>\n",
       "      <td>0</td>\n",
       "      <td>0</td>\n",
       "      <td>0</td>\n",
       "      <td>0</td>\n",
       "      <td>0</td>\n",
       "      <td>0</td>\n",
       "      <td>0</td>\n",
       "    </tr>\n",
       "    <tr>\n",
       "      <th>1</th>\n",
       "      <td>984982</td>\n",
       "      <td>3</td>\n",
       "      <td>No_brand_name</td>\n",
       "      <td>0</td>\n",
       "      <td>Partially used as shown in pic</td>\n",
       "      <td>Other</td>\n",
       "      <td>Daily &amp; Travel items</td>\n",
       "      <td>Health Care</td>\n",
       "      <td>0</td>\n",
       "      <td>0</td>\n",
       "      <td>...</td>\n",
       "      <td>0</td>\n",
       "      <td>0</td>\n",
       "      <td>0</td>\n",
       "      <td>0</td>\n",
       "      <td>0</td>\n",
       "      <td>0</td>\n",
       "      <td>0</td>\n",
       "      <td>0</td>\n",
       "      <td>0</td>\n",
       "      <td>0</td>\n",
       "    </tr>\n",
       "    <tr>\n",
       "      <th>2</th>\n",
       "      <td>1144303</td>\n",
       "      <td>1</td>\n",
       "      <td>The North Face</td>\n",
       "      <td>0</td>\n",
       "      <td>Girls extra small xs 6 Northface jacket Super ...</td>\n",
       "      <td>Kids</td>\n",
       "      <td>Girls (4+)</td>\n",
       "      <td>Coats &amp; Jackets</td>\n",
       "      <td>0</td>\n",
       "      <td>0</td>\n",
       "      <td>...</td>\n",
       "      <td>0</td>\n",
       "      <td>0</td>\n",
       "      <td>0</td>\n",
       "      <td>0</td>\n",
       "      <td>0</td>\n",
       "      <td>0</td>\n",
       "      <td>0</td>\n",
       "      <td>0</td>\n",
       "      <td>0</td>\n",
       "      <td>0</td>\n",
       "    </tr>\n",
       "    <tr>\n",
       "      <th>3</th>\n",
       "      <td>1222558</td>\n",
       "      <td>2</td>\n",
       "      <td>LC Lauren Conrad</td>\n",
       "      <td>1</td>\n",
       "      <td>Like new! Light pink!</td>\n",
       "      <td>Women</td>\n",
       "      <td>Sweaters</td>\n",
       "      <td>Crewneck</td>\n",
       "      <td>0</td>\n",
       "      <td>0</td>\n",
       "      <td>...</td>\n",
       "      <td>0</td>\n",
       "      <td>0</td>\n",
       "      <td>0</td>\n",
       "      <td>0</td>\n",
       "      <td>0</td>\n",
       "      <td>0</td>\n",
       "      <td>0</td>\n",
       "      <td>0</td>\n",
       "      <td>0</td>\n",
       "      <td>0</td>\n",
       "    </tr>\n",
       "    <tr>\n",
       "      <th>4</th>\n",
       "      <td>1110435</td>\n",
       "      <td>2</td>\n",
       "      <td>No_brand_name</td>\n",
       "      <td>0</td>\n",
       "      <td>This is just for the one piece! Size small/medium</td>\n",
       "      <td>Women</td>\n",
       "      <td>Swimwear</td>\n",
       "      <td>One-Piece</td>\n",
       "      <td>0</td>\n",
       "      <td>0</td>\n",
       "      <td>...</td>\n",
       "      <td>0</td>\n",
       "      <td>0</td>\n",
       "      <td>0</td>\n",
       "      <td>0</td>\n",
       "      <td>0</td>\n",
       "      <td>0</td>\n",
       "      <td>0</td>\n",
       "      <td>0</td>\n",
       "      <td>0</td>\n",
       "      <td>0</td>\n",
       "    </tr>\n",
       "  </tbody>\n",
       "</table>\n",
       "<p>5 rows × 1008 columns</p>\n",
       "</div>"
      ],
      "text/plain": [
       "   train_id  item_condition_id        brand_name  shipping  \\\n",
       "0    775838                  1            Chanel         0   \n",
       "1    984982                  3     No_brand_name         0   \n",
       "2   1144303                  1    The North Face         0   \n",
       "3   1222558                  2  LC Lauren Conrad         1   \n",
       "4   1110435                  2     No_brand_name         0   \n",
       "\n",
       "                                    item_description       0  \\\n",
       "0  It's brand new and 100% authentic. This is a g...  Beauty   \n",
       "1                     Partially used as shown in pic   Other   \n",
       "2  Girls extra small xs 6 Northface jacket Super ...    Kids   \n",
       "3                              Like new! Light pink!   Women   \n",
       "4  This is just for the one piece! Size small/medium   Women   \n",
       "\n",
       "                      1                2  0  1  ...  990  991  992  993  994  \\\n",
       "0             Fragrance            Women  0  0  ...    0    0    0    0    0   \n",
       "1  Daily & Travel items      Health Care  0  0  ...    0    0    0    0    0   \n",
       "2            Girls (4+)  Coats & Jackets  0  0  ...    0    0    0    0    0   \n",
       "3              Sweaters         Crewneck  0  0  ...    0    0    0    0    0   \n",
       "4              Swimwear        One-Piece  0  0  ...    0    0    0    0    0   \n",
       "\n",
       "   995  996  997  998  999  \n",
       "0    0    0    0    0    0  \n",
       "1    0    0    0    0    0  \n",
       "2    0    0    0    0    0  \n",
       "3    0    0    0    0    0  \n",
       "4    0    0    0    0    0  \n",
       "\n",
       "[5 rows x 1008 columns]"
      ]
     },
     "execution_count": 74,
     "metadata": {},
     "output_type": "execute_result"
    }
   ],
   "source": [
    "data_c_name.head()"
   ]
  },
  {
   "cell_type": "code",
   "execution_count": 81,
   "metadata": {},
   "outputs": [
    {
     "data": {
      "text/plain": [
       "2037"
      ]
     },
     "execution_count": 81,
     "metadata": {},
     "output_type": "execute_result"
    }
   ],
   "source": [
    "len(data_c_name['brand_name'].unique())"
   ]
  },
  {
   "cell_type": "code",
   "execution_count": 89,
   "metadata": {},
   "outputs": [],
   "source": [
    "brands = pd.pivot_table(data = data_cats, values = 'price', aggfunc= 'count', index = 'brand_name')"
   ]
  },
  {
   "cell_type": "code",
   "execution_count": 94,
   "metadata": {},
   "outputs": [],
   "source": [
    "brands.sort_values(by = 'price', ascending=False, inplace=True)\n",
    "brands.rename(columns = {'price':'count'}, inplace=True)"
   ]
  },
  {
   "cell_type": "code",
   "execution_count": 108,
   "metadata": {},
   "outputs": [],
   "source": [
    "from sklearn.preprocessing import OneHotEncoder\n",
    "from sklearn.compose import ColumnTransformer"
   ]
  },
  {
   "cell_type": "code",
   "execution_count": 118,
   "metadata": {},
   "outputs": [],
   "source": [
    "preprocess = ColumnTransformer([('brand_name', OneHotEncoder(), 'brand_name')])"
   ]
  },
  {
   "cell_type": "code",
   "execution_count": 126,
   "metadata": {},
   "outputs": [],
   "source": [
    "ohe = OneHotEncoder(categories=brands.iloc[0:172, 0])"
   ]
  },
  {
   "cell_type": "code",
   "execution_count": 128,
   "metadata": {},
   "outputs": [
    {
     "name": "stderr",
     "output_type": "stream",
     "text": [
      "C:\\Users\\rafal\\Anaconda3\\lib\\site-packages\\pandas\\core\\ops.py:1649: FutureWarning: elementwise comparison failed; returning scalar instead, but in the future will perform elementwise comparison\n",
      "  result = method(y)\n"
     ]
    },
    {
     "ename": "ValueError",
     "evalue": "The truth value of a Series is ambiguous. Use a.empty, a.bool(), a.item(), a.any() or a.all().",
     "output_type": "error",
     "traceback": [
      "\u001b[1;31m---------------------------------------------------------------------------\u001b[0m",
      "\u001b[1;31mValueError\u001b[0m                                Traceback (most recent call last)",
      "\u001b[1;32m<ipython-input-128-9dcb63f60e19>\u001b[0m in \u001b[0;36m<module>\u001b[1;34m\u001b[0m\n\u001b[1;32m----> 1\u001b[1;33m \u001b[0mbrand_names\u001b[0m \u001b[1;33m=\u001b[0m \u001b[0mohe\u001b[0m\u001b[1;33m.\u001b[0m\u001b[0mfit_transform\u001b[0m\u001b[1;33m(\u001b[0m\u001b[0mdata_c_name\u001b[0m\u001b[1;33m.\u001b[0m\u001b[0miloc\u001b[0m\u001b[1;33m[\u001b[0m\u001b[1;33m:\u001b[0m\u001b[1;33m,\u001b[0m\u001b[1;36m2\u001b[0m\u001b[1;33m:\u001b[0m\u001b[1;36m3\u001b[0m\u001b[1;33m]\u001b[0m\u001b[1;33m)\u001b[0m\u001b[1;33m\u001b[0m\u001b[1;33m\u001b[0m\u001b[0m\n\u001b[0m",
      "\u001b[1;32m~\\Anaconda3\\lib\\site-packages\\sklearn\\preprocessing\\_encoders.py\u001b[0m in \u001b[0;36mfit_transform\u001b[1;34m(self, X, y)\u001b[0m\n\u001b[0;32m    516\u001b[0m                 self._categorical_features, copy=True)\n\u001b[0;32m    517\u001b[0m         \u001b[1;32melse\u001b[0m\u001b[1;33m:\u001b[0m\u001b[1;33m\u001b[0m\u001b[1;33m\u001b[0m\u001b[0m\n\u001b[1;32m--> 518\u001b[1;33m             \u001b[1;32mreturn\u001b[0m \u001b[0mself\u001b[0m\u001b[1;33m.\u001b[0m\u001b[0mfit\u001b[0m\u001b[1;33m(\u001b[0m\u001b[0mX\u001b[0m\u001b[1;33m)\u001b[0m\u001b[1;33m.\u001b[0m\u001b[0mtransform\u001b[0m\u001b[1;33m(\u001b[0m\u001b[0mX\u001b[0m\u001b[1;33m)\u001b[0m\u001b[1;33m\u001b[0m\u001b[1;33m\u001b[0m\u001b[0m\n\u001b[0m\u001b[0;32m    519\u001b[0m \u001b[1;33m\u001b[0m\u001b[0m\n\u001b[0;32m    520\u001b[0m     \u001b[1;32mdef\u001b[0m \u001b[0m_legacy_transform\u001b[0m\u001b[1;33m(\u001b[0m\u001b[0mself\u001b[0m\u001b[1;33m,\u001b[0m \u001b[0mX\u001b[0m\u001b[1;33m)\u001b[0m\u001b[1;33m:\u001b[0m\u001b[1;33m\u001b[0m\u001b[1;33m\u001b[0m\u001b[0m\n",
      "\u001b[1;32m~\\Anaconda3\\lib\\site-packages\\sklearn\\preprocessing\\_encoders.py\u001b[0m in \u001b[0;36mfit\u001b[1;34m(self, X, y)\u001b[0m\n\u001b[0;32m    427\u001b[0m             \u001b[1;32mreturn\u001b[0m \u001b[0mself\u001b[0m\u001b[1;33m\u001b[0m\u001b[1;33m\u001b[0m\u001b[0m\n\u001b[0;32m    428\u001b[0m         \u001b[1;32melse\u001b[0m\u001b[1;33m:\u001b[0m\u001b[1;33m\u001b[0m\u001b[1;33m\u001b[0m\u001b[0m\n\u001b[1;32m--> 429\u001b[1;33m             \u001b[0mself\u001b[0m\u001b[1;33m.\u001b[0m\u001b[0m_fit\u001b[0m\u001b[1;33m(\u001b[0m\u001b[0mX\u001b[0m\u001b[1;33m,\u001b[0m \u001b[0mhandle_unknown\u001b[0m\u001b[1;33m=\u001b[0m\u001b[0mself\u001b[0m\u001b[1;33m.\u001b[0m\u001b[0mhandle_unknown\u001b[0m\u001b[1;33m)\u001b[0m\u001b[1;33m\u001b[0m\u001b[1;33m\u001b[0m\u001b[0m\n\u001b[0m\u001b[0;32m    430\u001b[0m             \u001b[1;32mreturn\u001b[0m \u001b[0mself\u001b[0m\u001b[1;33m\u001b[0m\u001b[1;33m\u001b[0m\u001b[0m\n\u001b[0;32m    431\u001b[0m \u001b[1;33m\u001b[0m\u001b[0m\n",
      "\u001b[1;32m~\\Anaconda3\\lib\\site-packages\\sklearn\\preprocessing\\_encoders.py\u001b[0m in \u001b[0;36m_fit\u001b[1;34m(self, X, handle_unknown)\u001b[0m\n\u001b[0;32m     63\u001b[0m         \u001b[0mn_samples\u001b[0m\u001b[1;33m,\u001b[0m \u001b[0mn_features\u001b[0m \u001b[1;33m=\u001b[0m \u001b[0mX\u001b[0m\u001b[1;33m.\u001b[0m\u001b[0mshape\u001b[0m\u001b[1;33m\u001b[0m\u001b[1;33m\u001b[0m\u001b[0m\n\u001b[0;32m     64\u001b[0m \u001b[1;33m\u001b[0m\u001b[0m\n\u001b[1;32m---> 65\u001b[1;33m         \u001b[1;32mif\u001b[0m \u001b[0mself\u001b[0m\u001b[1;33m.\u001b[0m\u001b[0m_categories\u001b[0m \u001b[1;33m!=\u001b[0m \u001b[1;34m'auto'\u001b[0m\u001b[1;33m:\u001b[0m\u001b[1;33m\u001b[0m\u001b[1;33m\u001b[0m\u001b[0m\n\u001b[0m\u001b[0;32m     66\u001b[0m             \u001b[1;32mif\u001b[0m \u001b[0mX\u001b[0m\u001b[1;33m.\u001b[0m\u001b[0mdtype\u001b[0m \u001b[1;33m!=\u001b[0m \u001b[0mobject\u001b[0m\u001b[1;33m:\u001b[0m\u001b[1;33m\u001b[0m\u001b[1;33m\u001b[0m\u001b[0m\n\u001b[0;32m     67\u001b[0m                 \u001b[1;32mfor\u001b[0m \u001b[0mcats\u001b[0m \u001b[1;32min\u001b[0m \u001b[0mself\u001b[0m\u001b[1;33m.\u001b[0m\u001b[0m_categories\u001b[0m\u001b[1;33m:\u001b[0m\u001b[1;33m\u001b[0m\u001b[1;33m\u001b[0m\u001b[0m\n",
      "\u001b[1;32m~\\Anaconda3\\lib\\site-packages\\pandas\\core\\generic.py\u001b[0m in \u001b[0;36m__nonzero__\u001b[1;34m(self)\u001b[0m\n\u001b[0;32m   1476\u001b[0m         raise ValueError(\"The truth value of a {0} is ambiguous. \"\n\u001b[0;32m   1477\u001b[0m                          \u001b[1;34m\"Use a.empty, a.bool(), a.item(), a.any() or a.all().\"\u001b[0m\u001b[1;33m\u001b[0m\u001b[1;33m\u001b[0m\u001b[0m\n\u001b[1;32m-> 1478\u001b[1;33m                          .format(self.__class__.__name__))\n\u001b[0m\u001b[0;32m   1479\u001b[0m \u001b[1;33m\u001b[0m\u001b[0m\n\u001b[0;32m   1480\u001b[0m     \u001b[0m__bool__\u001b[0m \u001b[1;33m=\u001b[0m \u001b[0m__nonzero__\u001b[0m\u001b[1;33m\u001b[0m\u001b[1;33m\u001b[0m\u001b[0m\n",
      "\u001b[1;31mValueError\u001b[0m: The truth value of a Series is ambiguous. Use a.empty, a.bool(), a.item(), a.any() or a.all()."
     ]
    }
   ],
   "source": [
    "brand_names = ohe.fit_transform(data_c_name.iloc[:,2:3])"
   ]
  },
  {
   "cell_type": "code",
   "execution_count": null,
   "metadata": {},
   "outputs": [],
   "source": []
  },
  {
   "cell_type": "code",
   "execution_count": null,
   "metadata": {},
   "outputs": [],
   "source": [
    "df4 = df3[df3.columns[df3.columns.isin(brands.iloc[0:172, 0])]]"
   ]
  },
  {
   "cell_type": "code",
   "execution_count": null,
   "metadata": {},
   "outputs": [],
   "source": []
  },
  {
   "cell_type": "code",
   "execution_count": null,
   "metadata": {},
   "outputs": [],
   "source": []
  },
  {
   "cell_type": "code",
   "execution_count": null,
   "metadata": {},
   "outputs": [],
   "source": []
  },
  {
   "cell_type": "code",
   "execution_count": null,
   "metadata": {},
   "outputs": [],
   "source": []
  },
  {
   "cell_type": "code",
   "execution_count": null,
   "metadata": {},
   "outputs": [],
   "source": []
  },
  {
   "cell_type": "code",
   "execution_count": null,
   "metadata": {},
   "outputs": [],
   "source": []
  },
  {
   "cell_type": "code",
   "execution_count": 114,
   "metadata": {},
   "outputs": [],
   "source": [
    "from sklearn.preprocessing import OneHotEncoder\n",
    "from sklearn.compose import ColumnTransformer, make_column_transformer"
   ]
  },
  {
   "cell_type": "code",
   "execution_count": null,
   "metadata": {},
   "outputs": [],
   "source": [
    "preprocess = make_column_transformer"
   ]
  }
 ],
 "metadata": {
  "kernelspec": {
   "display_name": "Python 3",
   "language": "python",
   "name": "python3"
  },
  "language_info": {
   "codemirror_mode": {
    "name": "ipython",
    "version": 3
   },
   "file_extension": ".py",
   "mimetype": "text/x-python",
   "name": "python",
   "nbconvert_exporter": "python",
   "pygments_lexer": "ipython3",
   "version": "3.7.3"
  },
  "varInspector": {
   "cols": {
    "lenName": 16,
    "lenType": 16,
    "lenVar": 40
   },
   "kernels_config": {
    "python": {
     "delete_cmd_postfix": "",
     "delete_cmd_prefix": "del ",
     "library": "var_list.py",
     "varRefreshCmd": "print(var_dic_list())"
    },
    "r": {
     "delete_cmd_postfix": ") ",
     "delete_cmd_prefix": "rm(",
     "library": "var_list.r",
     "varRefreshCmd": "cat(var_dic_list()) "
    }
   },
   "types_to_exclude": [
    "module",
    "function",
    "builtin_function_or_method",
    "instance",
    "_Feature"
   ],
   "window_display": false
  }
 },
 "nbformat": 4,
 "nbformat_minor": 2
}
